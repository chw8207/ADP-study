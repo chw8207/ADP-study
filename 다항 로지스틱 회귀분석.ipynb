{
 "cells": [
  {
   "cell_type": "markdown",
   "id": "b9b57bda",
   "metadata": {},
   "source": [
    "# 다항 로지스틱 회귀모형 실습"
   ]
  },
  {
   "cell_type": "markdown",
   "id": "121762b2",
   "metadata": {},
   "source": [
    "__[예제]__   \n",
    "iris 데이터의 Species 를 분류하는 다항 로지스틱 회귀분석을 실시하고 오분류표를 만들어라"
   ]
  },
  {
   "cell_type": "code",
   "execution_count": 16,
   "id": "64986dc8",
   "metadata": {},
   "outputs": [],
   "source": [
    "import pandas as pd\n",
    "import numpy as np\n",
    "iris = pd.read_csv('./data/iris.csv')\n",
    "\n",
    "X = iris.drop(['target'], axis = 1)\n",
    "y = iris.target"
   ]
  },
  {
   "cell_type": "code",
   "execution_count": 3,
   "id": "a2bbd002",
   "metadata": {},
   "outputs": [
    {
     "data": {
      "text/html": [
       "<div>\n",
       "<style scoped>\n",
       "    .dataframe tbody tr th:only-of-type {\n",
       "        vertical-align: middle;\n",
       "    }\n",
       "\n",
       "    .dataframe tbody tr th {\n",
       "        vertical-align: top;\n",
       "    }\n",
       "\n",
       "    .dataframe thead th {\n",
       "        text-align: right;\n",
       "    }\n",
       "</style>\n",
       "<table border=\"1\" class=\"dataframe\">\n",
       "  <thead>\n",
       "    <tr style=\"text-align: right;\">\n",
       "      <th></th>\n",
       "      <th>sepal length</th>\n",
       "      <th>sepal width</th>\n",
       "      <th>petal length</th>\n",
       "      <th>petal width</th>\n",
       "    </tr>\n",
       "  </thead>\n",
       "  <tbody>\n",
       "    <tr>\n",
       "      <th>0</th>\n",
       "      <td>5.1</td>\n",
       "      <td>3.5</td>\n",
       "      <td>1.4</td>\n",
       "      <td>0.2</td>\n",
       "    </tr>\n",
       "    <tr>\n",
       "      <th>1</th>\n",
       "      <td>4.9</td>\n",
       "      <td>3.0</td>\n",
       "      <td>1.4</td>\n",
       "      <td>0.2</td>\n",
       "    </tr>\n",
       "    <tr>\n",
       "      <th>2</th>\n",
       "      <td>4.7</td>\n",
       "      <td>3.2</td>\n",
       "      <td>1.3</td>\n",
       "      <td>0.2</td>\n",
       "    </tr>\n",
       "    <tr>\n",
       "      <th>3</th>\n",
       "      <td>4.6</td>\n",
       "      <td>3.1</td>\n",
       "      <td>1.5</td>\n",
       "      <td>0.2</td>\n",
       "    </tr>\n",
       "    <tr>\n",
       "      <th>4</th>\n",
       "      <td>5.0</td>\n",
       "      <td>3.6</td>\n",
       "      <td>1.4</td>\n",
       "      <td>0.2</td>\n",
       "    </tr>\n",
       "    <tr>\n",
       "      <th>...</th>\n",
       "      <td>...</td>\n",
       "      <td>...</td>\n",
       "      <td>...</td>\n",
       "      <td>...</td>\n",
       "    </tr>\n",
       "    <tr>\n",
       "      <th>145</th>\n",
       "      <td>6.7</td>\n",
       "      <td>3.0</td>\n",
       "      <td>5.2</td>\n",
       "      <td>2.3</td>\n",
       "    </tr>\n",
       "    <tr>\n",
       "      <th>146</th>\n",
       "      <td>6.3</td>\n",
       "      <td>2.5</td>\n",
       "      <td>5.0</td>\n",
       "      <td>1.9</td>\n",
       "    </tr>\n",
       "    <tr>\n",
       "      <th>147</th>\n",
       "      <td>6.5</td>\n",
       "      <td>3.0</td>\n",
       "      <td>5.2</td>\n",
       "      <td>2.0</td>\n",
       "    </tr>\n",
       "    <tr>\n",
       "      <th>148</th>\n",
       "      <td>6.2</td>\n",
       "      <td>3.4</td>\n",
       "      <td>5.4</td>\n",
       "      <td>2.3</td>\n",
       "    </tr>\n",
       "    <tr>\n",
       "      <th>149</th>\n",
       "      <td>5.9</td>\n",
       "      <td>3.0</td>\n",
       "      <td>5.1</td>\n",
       "      <td>1.8</td>\n",
       "    </tr>\n",
       "  </tbody>\n",
       "</table>\n",
       "<p>150 rows × 4 columns</p>\n",
       "</div>"
      ],
      "text/plain": [
       "     sepal length  sepal width  petal length  petal width\n",
       "0             5.1          3.5           1.4          0.2\n",
       "1             4.9          3.0           1.4          0.2\n",
       "2             4.7          3.2           1.3          0.2\n",
       "3             4.6          3.1           1.5          0.2\n",
       "4             5.0          3.6           1.4          0.2\n",
       "..            ...          ...           ...          ...\n",
       "145           6.7          3.0           5.2          2.3\n",
       "146           6.3          2.5           5.0          1.9\n",
       "147           6.5          3.0           5.2          2.0\n",
       "148           6.2          3.4           5.4          2.3\n",
       "149           5.9          3.0           5.1          1.8\n",
       "\n",
       "[150 rows x 4 columns]"
      ]
     },
     "execution_count": 3,
     "metadata": {},
     "output_type": "execute_result"
    }
   ],
   "source": [
    "X"
   ]
  },
  {
   "cell_type": "code",
   "execution_count": 5,
   "id": "257b86fa",
   "metadata": {},
   "outputs": [
    {
     "name": "stdout",
     "output_type": "stream",
     "text": [
      "(105, 4) (45, 4) (105,) (45,)\n"
     ]
    }
   ],
   "source": [
    "# 훈련셋 테스트셋 분리하기\n",
    "from sklearn.model_selection import train_test_split\n",
    "X_train, X_test, y_train, y_test = train_test_split(X, y, stratify=y, train_size = 0.7,\n",
    "                                                   test_size = 0.3, random_state = 123)\n",
    "print(X_train.shape, X_test.shape, y_train.shape, y_test.shape)"
   ]
  },
  {
   "cell_type": "markdown",
   "id": "98ca1871",
   "metadata": {},
   "source": [
    "## sklearn 모델 생성\n",
    "\n",
    "* sklearn 모델은 l2 패널티를 이용하여 전통적 통계모델에서 다중공선성의 문제를 내부적으로 해결해준다. \n",
    "* 독립변수 간의 상관성이 높은 변수라면, l2패널티를 0에 가깝게하여 변수를 삭제하는 것과 같은 효과를 보인다. "
   ]
  },
  {
   "cell_type": "code",
   "execution_count": 7,
   "id": "67165ef1",
   "metadata": {},
   "outputs": [
    {
     "name": "stdout",
     "output_type": "stream",
     "text": [
      "LogisticRegression()\n"
     ]
    },
    {
     "name": "stderr",
     "output_type": "stream",
     "text": [
      "C:\\Users\\LG\\anaconda3\\lib\\site-packages\\sklearn\\linear_model\\_logistic.py:814: ConvergenceWarning: lbfgs failed to converge (status=1):\n",
      "STOP: TOTAL NO. of ITERATIONS REACHED LIMIT.\n",
      "\n",
      "Increase the number of iterations (max_iter) or scale the data as shown in:\n",
      "    https://scikit-learn.org/stable/modules/preprocessing.html\n",
      "Please also refer to the documentation for alternative solver options:\n",
      "    https://scikit-learn.org/stable/modules/linear_model.html#logistic-regression\n",
      "  n_iter_i = _check_optimize_result(\n"
     ]
    }
   ],
   "source": [
    "# 모델 적합하기\n",
    "from sklearn.linear_model import LogisticRegression\n",
    "\n",
    "model = LogisticRegression()\n",
    "model.fit(X_train, y_train)\n",
    "print(model)"
   ]
  },
  {
   "cell_type": "markdown",
   "id": "217c1f97",
   "metadata": {},
   "source": [
    "## 모델 평가"
   ]
  },
  {
   "cell_type": "code",
   "execution_count": 9,
   "id": "4c4edbe7",
   "metadata": {},
   "outputs": [
    {
     "data": {
      "text/html": [
       "<div>\n",
       "<style scoped>\n",
       "    .dataframe tbody tr th:only-of-type {\n",
       "        vertical-align: middle;\n",
       "    }\n",
       "\n",
       "    .dataframe tbody tr th {\n",
       "        vertical-align: top;\n",
       "    }\n",
       "\n",
       "    .dataframe thead th {\n",
       "        text-align: right;\n",
       "    }\n",
       "</style>\n",
       "<table border=\"1\" class=\"dataframe\">\n",
       "  <thead>\n",
       "    <tr style=\"text-align: right;\">\n",
       "      <th></th>\n",
       "      <th>predicted_setosa</th>\n",
       "      <th>predicted_versicolor</th>\n",
       "      <th>predicted_virginica</th>\n",
       "    </tr>\n",
       "  </thead>\n",
       "  <tbody>\n",
       "    <tr>\n",
       "      <th>setosa</th>\n",
       "      <td>15</td>\n",
       "      <td>0</td>\n",
       "      <td>0</td>\n",
       "    </tr>\n",
       "    <tr>\n",
       "      <th>versicolor</th>\n",
       "      <td>0</td>\n",
       "      <td>14</td>\n",
       "      <td>1</td>\n",
       "    </tr>\n",
       "    <tr>\n",
       "      <th>virginica</th>\n",
       "      <td>0</td>\n",
       "      <td>0</td>\n",
       "      <td>15</td>\n",
       "    </tr>\n",
       "  </tbody>\n",
       "</table>\n",
       "</div>"
      ],
      "text/plain": [
       "            predicted_setosa  predicted_versicolor  predicted_virginica\n",
       "setosa                    15                     0                    0\n",
       "versicolor                 0                    14                    1\n",
       "virginica                  0                     0                   15"
      ]
     },
     "execution_count": 9,
     "metadata": {},
     "output_type": "execute_result"
    }
   ],
   "source": [
    "from sklearn.metrics import classification_report, confusion_matrix, accuracy_score, roc_auc_score\n",
    "# 테스트셋 예측\n",
    "predicted = model.predict(X_test)\n",
    "\n",
    "# 오분류표 생성\n",
    "cm = confusion_matrix(y_test, predicted)\n",
    "cmtb = pd.DataFrame(cm, columns=['predicted_setosa', 'predicted_versicolor', 'predicted_virginica'], \n",
    "                   index = ['setosa', 'versicolor', 'virginica'])\n",
    "\n",
    "cmtb"
   ]
  },
  {
   "cell_type": "code",
   "execution_count": 11,
   "id": "88cb8805",
   "metadata": {},
   "outputs": [
    {
     "data": {
      "text/plain": [
       "array([[1.19460728e-03, 5.20347683e-01, 4.78457709e-01],\n",
       "       [1.00943407e-05, 4.96999454e-02, 9.50289960e-01],\n",
       "       [4.31666756e-02, 9.33399362e-01, 2.34339626e-02],\n",
       "       [3.50915452e-03, 7.32085919e-01, 2.64404926e-01],\n",
       "       [2.47468778e-07, 4.75253027e-03, 9.95247222e-01],\n",
       "       [9.76993748e-01, 2.30061565e-02, 9.53088477e-08],\n",
       "       [9.84980591e-01, 1.50193779e-02, 3.08186927e-08],\n",
       "       [3.08338600e-03, 7.21544109e-01, 2.75372505e-01],\n",
       "       [9.81963203e-01, 1.80367386e-02, 5.83423966e-08],\n",
       "       [9.72865099e-01, 2.71348119e-02, 8.95204688e-08],\n",
       "       [8.96074379e-08, 4.79987800e-03, 9.95200032e-01],\n",
       "       [9.79252348e-01, 2.07475557e-02, 9.67598849e-08],\n",
       "       [1.08341553e-04, 1.26062253e-01, 8.73829405e-01],\n",
       "       [9.94239845e-01, 5.76014822e-03, 7.17543429e-09],\n",
       "       [7.01820025e-03, 7.80937973e-01, 2.12043826e-01],\n",
       "       [9.64954547e-01, 3.50453043e-02, 1.48459213e-07],\n",
       "       [4.04859845e-04, 2.37475764e-01, 7.62119376e-01],\n",
       "       [4.78818602e-04, 1.85360717e-01, 8.14160465e-01],\n",
       "       [9.82598754e-01, 1.74011778e-02, 6.77173667e-08],\n",
       "       [9.69177581e-01, 3.08222824e-02, 1.36282649e-07],\n",
       "       [9.64954547e-01, 3.50453043e-02, 1.48459213e-07],\n",
       "       [9.85896341e-01, 1.41036091e-02, 4.98278689e-08],\n",
       "       [9.47353361e-01, 5.26462610e-02, 3.78514286e-07],\n",
       "       [8.19001639e-03, 8.79227123e-01, 1.12582861e-01],\n",
       "       [9.84214425e-01, 1.57855369e-02, 3.77593095e-08],\n",
       "       [5.48009714e-03, 6.75632307e-01, 3.18887596e-01],\n",
       "       [1.13258227e-04, 7.07467919e-02, 9.29139950e-01],\n",
       "       [9.64954547e-01, 3.50453043e-02, 1.48459213e-07],\n",
       "       [1.86425803e-03, 7.06750444e-01, 2.91385298e-01],\n",
       "       [5.48569029e-06, 1.73249117e-02, 9.82669603e-01],\n",
       "       [1.02917625e-05, 1.82421065e-02, 9.81747602e-01],\n",
       "       [3.07722528e-06, 7.43906445e-03, 9.92557858e-01],\n",
       "       [2.57163703e-03, 4.39373460e-01, 5.58054903e-01],\n",
       "       [1.84436061e-01, 8.10482338e-01, 5.08160006e-03],\n",
       "       [1.57526231e-01, 8.37124864e-01, 5.34890542e-03],\n",
       "       [2.12733593e-02, 8.67297406e-01, 1.11429234e-01],\n",
       "       [1.66524628e-03, 3.83235493e-01, 6.15099261e-01],\n",
       "       [9.16039271e-04, 4.21877496e-01, 5.77206465e-01],\n",
       "       [5.23912654e-04, 2.17610703e-01, 7.81865384e-01],\n",
       "       [9.69676696e-01, 3.03231296e-02, 1.74713871e-07],\n",
       "       [9.57004942e-07, 1.21646346e-02, 9.87834408e-01],\n",
       "       [9.49852019e-02, 8.88565274e-01, 1.64495243e-02],\n",
       "       [1.24800103e-02, 7.54238405e-01, 2.33281585e-01],\n",
       "       [1.59116216e-07, 5.21857332e-03, 9.94781268e-01],\n",
       "       [4.73184077e-03, 7.26018678e-01, 2.69249481e-01]])"
      ]
     },
     "execution_count": 11,
     "metadata": {},
     "output_type": "execute_result"
    }
   ],
   "source": [
    "model.predict_proba(X_test)"
   ]
  },
  {
   "cell_type": "code",
   "execution_count": 12,
   "id": "0ef31378",
   "metadata": {},
   "outputs": [
    {
     "name": "stdout",
     "output_type": "stream",
     "text": [
      "Accuracy Score:  0.9777777777777777\n",
      "\n",
      "\n",
      "                 precision    recall  f1-score   support\n",
      "\n",
      "    Iris-setosa       1.00      1.00      1.00        15\n",
      "Iris-versicolor       1.00      0.93      0.97        15\n",
      " Iris-virginica       0.94      1.00      0.97        15\n",
      "\n",
      "       accuracy                           0.98        45\n",
      "      macro avg       0.98      0.98      0.98        45\n",
      "   weighted avg       0.98      0.98      0.98        45\n",
      "\n"
     ]
    }
   ],
   "source": [
    "# 정확도\n",
    "print('Accuracy Score: ', accuracy_score(y_test, predicted))\n",
    "\n",
    "print('\\n')\n",
    "# 분류 리포트 생성하기\n",
    "class_report = classification_report(y_test, predicted)\n",
    "print(class_report)"
   ]
  },
  {
   "cell_type": "code",
   "execution_count": 13,
   "id": "4bc4e05a",
   "metadata": {},
   "outputs": [
    {
     "data": {
      "text/plain": [
       "0.9985185185185186"
      ]
     },
     "execution_count": 13,
     "metadata": {},
     "output_type": "execute_result"
    }
   ],
   "source": [
    "roc_auc_score(y_test, model.predict_proba(X_test), multi_class = 'ovr')"
   ]
  },
  {
   "cell_type": "markdown",
   "id": "b26e46ed",
   "metadata": {},
   "source": [
    "## 다항 로지스틱 회귀 계수 해석 "
   ]
  },
  {
   "cell_type": "code",
   "execution_count": 14,
   "id": "1e468ecb",
   "metadata": {},
   "outputs": [
    {
     "name": "stdout",
     "output_type": "stream",
     "text": [
      "Intercept: \n",
      " [  9.42940015   2.10066833 -11.53006848]\n",
      "Coefficient: \n",
      " [[-0.45747705  0.87262687 -2.30840796 -0.96053751]\n",
      " [ 0.37578083 -0.19466078 -0.16297032 -0.75289644]\n",
      " [ 0.08169622 -0.6779661   2.47137828  1.71343395]]\n"
     ]
    }
   ],
   "source": [
    "# 회귀계수 확인하기\n",
    "print('Intercept: \\n', model.intercept_)\n",
    "print('Coefficient: \\n', model.coef_)"
   ]
  },
  {
   "cell_type": "code",
   "execution_count": 17,
   "id": "67dcbee1",
   "metadata": {},
   "outputs": [
    {
     "data": {
      "text/html": [
       "<div>\n",
       "<style scoped>\n",
       "    .dataframe tbody tr th:only-of-type {\n",
       "        vertical-align: middle;\n",
       "    }\n",
       "\n",
       "    .dataframe tbody tr th {\n",
       "        vertical-align: top;\n",
       "    }\n",
       "\n",
       "    .dataframe thead th {\n",
       "        text-align: right;\n",
       "    }\n",
       "</style>\n",
       "<table border=\"1\" class=\"dataframe\">\n",
       "  <thead>\n",
       "    <tr style=\"text-align: right;\">\n",
       "      <th></th>\n",
       "      <th>sepal length</th>\n",
       "      <th>sepal width</th>\n",
       "      <th>petal length</th>\n",
       "      <th>petal width</th>\n",
       "    </tr>\n",
       "  </thead>\n",
       "  <tbody>\n",
       "    <tr>\n",
       "      <th>Iris-setosa</th>\n",
       "      <td>0.632878</td>\n",
       "      <td>2.393189</td>\n",
       "      <td>0.099419</td>\n",
       "      <td>0.382687</td>\n",
       "    </tr>\n",
       "    <tr>\n",
       "      <th>Iris-versicolor</th>\n",
       "      <td>1.456128</td>\n",
       "      <td>0.823114</td>\n",
       "      <td>0.849616</td>\n",
       "      <td>0.471000</td>\n",
       "    </tr>\n",
       "    <tr>\n",
       "      <th>Iris-virginica</th>\n",
       "      <td>1.085126</td>\n",
       "      <td>0.507648</td>\n",
       "      <td>11.838753</td>\n",
       "      <td>5.547980</td>\n",
       "    </tr>\n",
       "  </tbody>\n",
       "</table>\n",
       "</div>"
      ],
      "text/plain": [
       "                 sepal length  sepal width  petal length  petal width\n",
       "Iris-setosa          0.632878     2.393189      0.099419     0.382687\n",
       "Iris-versicolor      1.456128     0.823114      0.849616     0.471000\n",
       "Iris-virginica       1.085126     0.507648     11.838753     5.547980"
      ]
     },
     "execution_count": 17,
     "metadata": {},
     "output_type": "execute_result"
    }
   ],
   "source": [
    "pd.DataFrame(np.exp(model.coef_), columns = X_train.columns, index = model.classes_)"
   ]
  },
  {
   "cell_type": "markdown",
   "id": "dfa0f1b2",
   "metadata": {},
   "source": [
    "*<b> 다른 변수가 일정할 때, sepal width가 1단위 증가하면 Iris-setosa로 분류될 확률이 2.393189배 증가한다. </b>"
   ]
  },
  {
   "cell_type": "code",
   "execution_count": null,
   "id": "9578c2bd",
   "metadata": {},
   "outputs": [],
   "source": []
  },
  {
   "cell_type": "code",
   "execution_count": null,
   "id": "ec1ea957",
   "metadata": {},
   "outputs": [],
   "source": []
  },
  {
   "cell_type": "code",
   "execution_count": null,
   "id": "ce759343",
   "metadata": {},
   "outputs": [],
   "source": []
  },
  {
   "cell_type": "code",
   "execution_count": null,
   "id": "dc60d0cb",
   "metadata": {},
   "outputs": [],
   "source": []
  }
 ],
 "metadata": {
  "kernelspec": {
   "display_name": "Python 3 (ipykernel)",
   "language": "python",
   "name": "python3"
  },
  "language_info": {
   "codemirror_mode": {
    "name": "ipython",
    "version": 3
   },
   "file_extension": ".py",
   "mimetype": "text/x-python",
   "name": "python",
   "nbconvert_exporter": "python",
   "pygments_lexer": "ipython3",
   "version": "3.9.13"
  }
 },
 "nbformat": 4,
 "nbformat_minor": 5
}
