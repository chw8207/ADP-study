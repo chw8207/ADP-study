{
 "cells": [
  {
   "cell_type": "markdown",
   "id": "54fa7580",
   "metadata": {},
   "source": [
    "<br><br>\n",
    "\n",
    "## 계절성 시계열 데이터에 대한 분석 : SARIMA\n",
    "\n",
    "SARIMA : 데이터가 지닌 계절성(주기에 따라 유사한 양상으로 변화하는 모양)까지 고려한 ARIMA 모델\n",
    "\n",
    "\n",
    "### 데이터 로드"
   ]
  },
  {
   "cell_type": "code",
   "execution_count": 4,
   "id": "cb6507dc",
   "metadata": {},
   "outputs": [],
   "source": [
    "import pandas as pd\n",
    "import matplotlib.pyplot as plt\n",
    "\n",
    "data = pd.read_csv('./data/arima_data.csv', names = ['day', 'price'])\n",
    "data['day'] = pd.to_datetime(data['day'], format = '%Y-%m-%d')\n",
    "data.set_index('day', inplace=True)\n",
    "s_data = data"
   ]
  },
  {
   "cell_type": "code",
   "execution_count": null,
   "id": "54f06b05",
   "metadata": {},
   "outputs": [],
   "source": []
  },
  {
   "cell_type": "code",
   "execution_count": null,
   "id": "48bb5b75",
   "metadata": {},
   "outputs": [],
   "source": []
  },
  {
   "cell_type": "code",
   "execution_count": null,
   "id": "4734dc61",
   "metadata": {},
   "outputs": [],
   "source": []
  }
 ],
 "metadata": {
  "kernelspec": {
   "display_name": "Python 3 (ipykernel)",
   "language": "python",
   "name": "python3"
  },
  "language_info": {
   "codemirror_mode": {
    "name": "ipython",
    "version": 3
   },
   "file_extension": ".py",
   "mimetype": "text/x-python",
   "name": "python",
   "nbconvert_exporter": "python",
   "pygments_lexer": "ipython3",
   "version": "3.9.13"
  }
 },
 "nbformat": 4,
 "nbformat_minor": 5
}
