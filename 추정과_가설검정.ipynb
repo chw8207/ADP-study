{
 "cells": [
  {
   "cell_type": "code",
   "execution_count": 16,
   "metadata": {},
   "outputs": [],
   "source": [
    "import numpy as np\n",
    "import pandas as pd\n",
    "import matplotlib.pyplot as plt\n",
    "import seaborn as sns\n",
    "from scipy.stats import norm, t\n",
    "%matplotlib inline"
   ]
  },
  {
   "cell_type": "markdown",
   "metadata": {},
   "source": [
    "### 일표본(one-sample)"
   ]
  },
  {
   "cell_type": "markdown",
   "metadata": {},
   "source": [
    "- 모평균의 추정과 가설 검정: Z분포, t분포"
   ]
  },
  {
   "cell_type": "code",
   "execution_count": 15,
   "metadata": {},
   "outputs": [
    {
     "name": "stdout",
     "output_type": "stream",
     "text": [
      "[추정]\n",
      " 점 추정량: 31100.000\n",
      " 구간 추정량: 29630.027~32569.973\n",
      " 오차의 한계: 1469.973\n",
      "[표본 규모]\n",
      " 유의수준 0.05에서 오차의 한계를 500 이하로 하려면: 표본 크기 311.2 이상 \n",
      "\n",
      "[검정]\n",
      " 임계값: +/-1.960, 검정통계량: 1.467\n",
      " 유의수준: 0.050, 유의확률: 0.142\n",
      "신뢰구간: 29630.027~32569.973, 검정하고자 하는 값: 30000.000\n",
      "\n"
     ]
    }
   ],
   "source": [
    "# 모표준편차를 아는 경우의 추정\n",
    "# 모평균의 추정\n",
    "x = 31100     # 표본평균\n",
    "n = 36        # 표본크기\n",
    "sigma = 4500  # 모표준편차\n",
    "conf_a = 0.05 # 구간추정을 위한 유의수준\n",
    "\n",
    "# 표준정규분포\n",
    "SE = sigma / np.sqrt(n)         # 표준오차\n",
    "conf_z = norm.ppf(1 - conf_a/2) # 신뢰구간을 구하기 위한 Z통계량\n",
    "ME = conf_z * SE                # 오차의 한계 = 허용초차(margin of error)\n",
    "\n",
    "print('[추정]')\n",
    "print(f' 점 추정량: {x:.3f}')\n",
    "print(f' 구간 추정량: {x-ME:.3f}~{x+ME:.3f}')\n",
    "print(f' 오차의 한계: {ME:.3f}')\n",
    "\n",
    "# 오차의 한계에 따른 표본 규모\n",
    "# (위의 조건에 이어서) 오차의 한계가 500이하힐 확률이 0.95가 되도록\n",
    "# 모집단 평균의 추정치를 원하는 경우, 표본 규모는 얼마가 되어야 할까?\n",
    "ME = 500\n",
    "conf_a = 1-0.95\n",
    "conf_z = norm.ppf(conf_a/2)\n",
    "ssize = conf_z**2 * sigma**2 / ME**2\n",
    "print('[표본 규모]')\n",
    "print(f' 유의수준 {conf_a:.2f}에서 오차의 한계를 {ME} 이하로 하려면: 표본 크기 {ssize:.1f} 이상', '\\n')\n",
    "\n",
    "# 모평균의 가설 검정\n",
    "# H0: mu = mu0\n",
    "# H1: mu != mu0\n",
    "mu0 = 30000             # 귀무가설의 모평균\n",
    "test_a = 0.05           # 가설검정을 위한 유의수준\n",
    "\n",
    "SE = sigma / np.sqrt(n)\n",
    "zstat = (x - mu0) / SE  # 신뢰구간을 구하기 위한 z 값\n",
    "conf_z = norm.ppf(1-test_a/2)\n",
    "ME = conf_z * SE\n",
    "\n",
    "# 단측(one)/양측(two) 검정에 따른 유의확률과 임계값\n",
    "ways = 'two'  # 대립가설 기준\n",
    "if ways == 'two' : \n",
    "    sp = (1-norm.cdf(np.abs(zstat)))*2\n",
    "    cv = norm.ppf(1-test_a/2)  # critical value\n",
    "    cv = f'+/-{cv:.3f}'\n",
    "elif ways == 'one-right' : \n",
    "    sp = 1 - norm.cdf(zstat)\n",
    "    cv = norm.ppf(1-test_a)\n",
    "    cv = f'{cv:.3f}'\n",
    "elif ways == 'one-left' : \n",
    "    sp = norm.cdf(zstat)\n",
    "    cv = norm.ppf(test_a)\n",
    "    cv = f'{cv:.3f}'\n",
    "\n",
    "print('[검정]')  # 귀무가설 채택\n",
    "print(f' 임계값: {cv}, 검정통계량: {zstat:.3f}')\n",
    "print(f' 유의수준: {test_a:.3f}, 유의확률: {sp:.3f}')\n",
    "print(f'신뢰구간: {x-ME:.3f}~{x+ME:.3f}, 검정하고자 하는 값: {mu0:.3f}\\n')"
   ]
  },
  {
   "cell_type": "code",
   "execution_count": 22,
   "metadata": {},
   "outputs": [
    {
     "name": "stdout",
     "output_type": "stream",
     "text": [
      "[추정]\n",
      " 점 추정량: 650.000\n",
      " 구간 추정량: 620.693~679.307\n",
      " 오차의 한계: 29.307\n",
      "\n",
      "['표본 규모']\n",
      " 유의수준 0.05에서 오차의 한계를 20.00 이하로 하려면: 표본 크기 34.4 이상\n",
      "\n"
     ]
    }
   ],
   "source": [
    "# 모표준편차를 모르는 경우\n",
    "# 모평균의 추정\n",
    "x = 650\n",
    "n = 16\n",
    "s = 55  # 표본 표준편차\n",
    "conf_a = 0.05\n",
    "df = n-1\n",
    "SE = s / np.sqrt(n)\n",
    "conf_t = t.ppf(1-conf_a/2, df)\n",
    "ME = conf_t * SE\n",
    "\n",
    "\n",
    "print('[추정]')\n",
    "print(f' 점 추정량: {x:.3f}')\n",
    "print(f' 구간 추정량: {x-ME:.3f}~{x+ME:.3f}')\n",
    "print(f' 오차의 한계: {ME:.3f}\\n')\n",
    "\n",
    "'''\n",
    "오차의 한계에 따른 표본 규모\n",
    "(위의 조건에 이어서) 오차의 한계가 20 이하일 확률이 0.94가 되도록 모집단 평균의 추정치를 \n",
    "원하는 경우, 표본 규모는 얼마나 되어야 하는가?\n",
    "'''\n",
    "ME2 = 20\n",
    "conf_a2 = 1-0.95\n",
    "conf_t2 = t.ppf(conf_a2/2, df)\n",
    "ssize = conf_t2**2 * s**2 / ME2**2\n",
    "print(['표본 규모'])\n",
    "print(f' 유의수준 {conf_a2:.2f}에서 오차의 한계를 {ME2:.2f} 이하로 하려면: 표본 크기 {ssize:.1f} 이상\\n')\n",
    "\n",
    "# 모평균의 가설 검정(one-sample t-test)\n"
   ]
  }
 ],
 "metadata": {
  "kernelspec": {
   "display_name": "base",
   "language": "python",
   "name": "python3"
  },
  "language_info": {
   "codemirror_mode": {
    "name": "ipython",
    "version": 3
   },
   "file_extension": ".py",
   "mimetype": "text/x-python",
   "name": "python",
   "nbconvert_exporter": "python",
   "pygments_lexer": "ipython3",
   "version": "3.9.13"
  },
  "orig_nbformat": 4
 },
 "nbformat": 4,
 "nbformat_minor": 2
}
