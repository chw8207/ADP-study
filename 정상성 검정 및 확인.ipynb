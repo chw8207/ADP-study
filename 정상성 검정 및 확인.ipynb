{
 "cells": [
  {
   "cell_type": "markdown",
   "id": "81e85ac9",
   "metadata": {},
   "source": [
    "## 정상성 검정 및 확인"
   ]
  },
  {
   "cell_type": "markdown",
   "id": "24cfd8c8",
   "metadata": {},
   "source": [
    "### 정상성이란? \n",
    "\n",
    "- 정상성은 추세와 계절성을 갖지 않는 진동하는 데이터이다. \n",
    "- 주기성 행동을 가지고 있지만 주기가 특정 패턴을 갖지 않고 시계열을 관측하는 어떠한 시점에서도 똑같은 모양일 것이다..\n",
    "- 그러므로 추세나 계절성이 없는 데이터 == > ARIMA 모형을 적용하기 위한 조건 \n",
    "- 정상성을 띄지 않는다면 정상성(stationary)을 갖춘 형태로 변경해줘야 한다. \n",
    "\n",
    "### 정상성 검정\n",
    "\n",
    "Augmented Dickey-Fuller Test\n",
    "\n",
    "- 정상성을 알아보기 위한 단위근 검정 방법\n",
    "- 귀무가설 : 데이터가 정상성(stationary)을 갖지 않는다. (변동이 있다.)\n",
    "- 대립가설 : 데이터가 정상성(stationary)을 갖는다 \n",
    "\n",
    "\n",
    "> adfuller(x, maxlag, regression, autolag)\n",
    "\n",
    "* x: 시계열 자료<br>\n",
    "* regression: 검정에 사용할 모형 <br> &emsp; &emsp; &emsp; &emsp; {'nc': 추세 없음, 'c':상수항만 사용, 'ct':상수항&1차 추세, 'ctt':상수항&2차 추세}\n",
    "\n",
    "* autolag: 검정 AR 모형의 차수를 자동 결정하는 알고리즘  <br> &emsp; &emsp; &emsp; &emsp; {'AIC', 'BIC', 't-stat', None}\n",
    "\n",
    "<br>\n",
    "\n",
    "return 값 : <br>\n",
    "-         0. 검정통계량\n",
    "        1. p-value\n",
    "        2. 사용된 시차의 수\n",
    "        3. 분석에 사용한 자료 수\n",
    "        4. 1%, 5%, 10% 수준에 해당되는 검정통계량 값"
   ]
  },
  {
   "cell_type": "code",
   "execution_count": 2,
   "id": "a9ca69ac",
   "metadata": {},
   "outputs": [
    {
     "data": {
      "text/html": [
       "<div>\n",
       "<style scoped>\n",
       "    .dataframe tbody tr th:only-of-type {\n",
       "        vertical-align: middle;\n",
       "    }\n",
       "\n",
       "    .dataframe tbody tr th {\n",
       "        vertical-align: top;\n",
       "    }\n",
       "\n",
       "    .dataframe thead th {\n",
       "        text-align: right;\n",
       "    }\n",
       "</style>\n",
       "<table border=\"1\" class=\"dataframe\">\n",
       "  <thead>\n",
       "    <tr style=\"text-align: right;\">\n",
       "      <th></th>\n",
       "      <th>day</th>\n",
       "      <th>price</th>\n",
       "    </tr>\n",
       "  </thead>\n",
       "  <tbody>\n",
       "    <tr>\n",
       "      <th>0</th>\n",
       "      <td>2013-01-01</td>\n",
       "      <td>3794</td>\n",
       "    </tr>\n",
       "    <tr>\n",
       "      <th>1</th>\n",
       "      <td>2013-02-01</td>\n",
       "      <td>3863</td>\n",
       "    </tr>\n",
       "    <tr>\n",
       "      <th>2</th>\n",
       "      <td>2013-03-01</td>\n",
       "      <td>5190</td>\n",
       "    </tr>\n",
       "  </tbody>\n",
       "</table>\n",
       "</div>"
      ],
      "text/plain": [
       "          day  price\n",
       "0  2013-01-01   3794\n",
       "1  2013-02-01   3863\n",
       "2  2013-03-01   5190"
      ]
     },
     "execution_count": 2,
     "metadata": {},
     "output_type": "execute_result"
    }
   ],
   "source": [
    "import pandas as pd\n",
    "\n",
    "data = pd.read_csv('./data/arima_data.csv', names = ['day','price'])\n",
    "data.head(3)"
   ]
  },
  {
   "cell_type": "code",
   "execution_count": 3,
   "id": "009d1c7e",
   "metadata": {},
   "outputs": [
    {
     "name": "stdout",
     "output_type": "stream",
     "text": [
      "<class 'pandas.core.frame.DataFrame'>\n",
      "RangeIndex: 60 entries, 0 to 59\n",
      "Data columns (total 2 columns):\n",
      " #   Column  Non-Null Count  Dtype \n",
      "---  ------  --------------  ----- \n",
      " 0   day     60 non-null     object\n",
      " 1   price   60 non-null     int64 \n",
      "dtypes: int64(1), object(1)\n",
      "memory usage: 1.1+ KB\n"
     ]
    }
   ],
   "source": [
    "data.info()"
   ]
  },
  {
   "cell_type": "code",
   "execution_count": 6,
   "id": "a9cd4297",
   "metadata": {},
   "outputs": [
    {
     "data": {
      "text/html": [
       "<div>\n",
       "<style scoped>\n",
       "    .dataframe tbody tr th:only-of-type {\n",
       "        vertical-align: middle;\n",
       "    }\n",
       "\n",
       "    .dataframe tbody tr th {\n",
       "        vertical-align: top;\n",
       "    }\n",
       "\n",
       "    .dataframe thead th {\n",
       "        text-align: right;\n",
       "    }\n",
       "</style>\n",
       "<table border=\"1\" class=\"dataframe\">\n",
       "  <thead>\n",
       "    <tr style=\"text-align: right;\">\n",
       "      <th></th>\n",
       "      <th>price</th>\n",
       "    </tr>\n",
       "    <tr>\n",
       "      <th>day</th>\n",
       "      <th></th>\n",
       "    </tr>\n",
       "  </thead>\n",
       "  <tbody>\n",
       "    <tr>\n",
       "      <th>2013-01-01</th>\n",
       "      <td>3794</td>\n",
       "    </tr>\n",
       "    <tr>\n",
       "      <th>2013-02-01</th>\n",
       "      <td>3863</td>\n",
       "    </tr>\n",
       "    <tr>\n",
       "      <th>2013-03-01</th>\n",
       "      <td>5190</td>\n",
       "    </tr>\n",
       "  </tbody>\n",
       "</table>\n",
       "</div>"
      ],
      "text/plain": [
       "            price\n",
       "day              \n",
       "2013-01-01   3794\n",
       "2013-02-01   3863\n",
       "2013-03-01   5190"
      ]
     },
     "execution_count": 6,
     "metadata": {},
     "output_type": "execute_result"
    }
   ],
   "source": [
    "data['day'] = pd.to_datetime(data['day'],format = '%Y-%m-%d')\n",
    "data.set_index('day', inplace=True)\n",
    "data.head(3)"
   ]
  },
  {
   "cell_type": "code",
   "execution_count": 7,
   "id": "fbc5c2d9",
   "metadata": {},
   "outputs": [],
   "source": [
    "train_len = int(len(data) * 0.8)\n",
    "training = data[:train_len]\n",
    "test = data.drop(training.index)"
   ]
  },
  {
   "cell_type": "code",
   "execution_count": 10,
   "id": "78adce2a",
   "metadata": {},
   "outputs": [
    {
     "name": "stdout",
     "output_type": "stream",
     "text": [
      "ADF Statistic : -1.9997199341327796\n",
      "p-value : 0.6015863303794179\n"
     ]
    }
   ],
   "source": [
    "## 귀무가설 : 데이터가 정상성을 갖지 않는다(변동이 있다)\n",
    "## 대립가설 : 데이터가 정상성을 가진다.\n",
    "\n",
    "from statsmodels.tsa.stattools import adfuller\n",
    "\n",
    "adf = adfuller(training, regression='ct')\n",
    "\n",
    "print(f'ADF Statistic : {adf[0]}')\n",
    "print(f'p-value : {adf[1]}')"
   ]
  },
  {
   "cell_type": "markdown",
   "id": "8ce55e92",
   "metadata": {},
   "source": [
    "단위근 검정에서 p-value가 0.05보다 크므로 정상성을 갖지 않는 것으로 판단됨 \n",
    "\n",
    "<b>차분 후 단위근 검정 재실시</b>\n",
    "\n",
    "차분 : 비정상성을 정상성으로 만들기 위해, 관측값들의 차이를 계산하는 것"
   ]
  },
  {
   "cell_type": "code",
   "execution_count": 11,
   "id": "751c9a2a",
   "metadata": {
    "scrolled": true
   },
   "outputs": [
    {
     "name": "stdout",
     "output_type": "stream",
     "text": [
      "Help on function adfuller in module statsmodels.tsa.stattools:\n",
      "\n",
      "adfuller(x, maxlag: 'int | None' = None, regression='c', autolag='AIC', store=False, regresults=False)\n",
      "    Augmented Dickey-Fuller unit root test.\n",
      "    \n",
      "    The Augmented Dickey-Fuller test can be used to test for a unit root in a\n",
      "    univariate process in the presence of serial correlation.\n",
      "    \n",
      "    Parameters\n",
      "    ----------\n",
      "    x : array_like, 1d\n",
      "        The data series to test.\n",
      "    maxlag : {None, int}\n",
      "        Maximum lag which is included in test, default value of\n",
      "        12*(nobs/100)^{1/4} is used when ``None``.\n",
      "    regression : {\"c\",\"ct\",\"ctt\",\"n\"}\n",
      "        Constant and trend order to include in regression.\n",
      "    \n",
      "        * \"c\" : constant only (default).\n",
      "        * \"ct\" : constant and trend.\n",
      "        * \"ctt\" : constant, and linear and quadratic trend.\n",
      "        * \"n\" : no constant, no trend.\n",
      "    \n",
      "    autolag : {\"AIC\", \"BIC\", \"t-stat\", None}\n",
      "        Method to use when automatically determining the lag length among the\n",
      "        values 0, 1, ..., maxlag.\n",
      "    \n",
      "        * If \"AIC\" (default) or \"BIC\", then the number of lags is chosen\n",
      "          to minimize the corresponding information criterion.\n",
      "        * \"t-stat\" based choice of maxlag.  Starts with maxlag and drops a\n",
      "          lag until the t-statistic on the last lag length is significant\n",
      "          using a 5%-sized test.\n",
      "        * If None, then the number of included lags is set to maxlag.\n",
      "    store : bool\n",
      "        If True, then a result instance is returned additionally to\n",
      "        the adf statistic. Default is False.\n",
      "    regresults : bool, optional\n",
      "        If True, the full regression results are returned. Default is False.\n",
      "    \n",
      "    Returns\n",
      "    -------\n",
      "    adf : float\n",
      "        The test statistic.\n",
      "    pvalue : float\n",
      "        MacKinnon's approximate p-value based on MacKinnon (1994, 2010).\n",
      "    usedlag : int\n",
      "        The number of lags used.\n",
      "    nobs : int\n",
      "        The number of observations used for the ADF regression and calculation\n",
      "        of the critical values.\n",
      "    critical values : dict\n",
      "        Critical values for the test statistic at the 1 %, 5 %, and 10 %\n",
      "        levels. Based on MacKinnon (2010).\n",
      "    icbest : float\n",
      "        The maximized information criterion if autolag is not None.\n",
      "    resstore : ResultStore, optional\n",
      "        A dummy class with results attached as attributes.\n",
      "    \n",
      "    Notes\n",
      "    -----\n",
      "    The null hypothesis of the Augmented Dickey-Fuller is that there is a unit\n",
      "    root, with the alternative that there is no unit root. If the pvalue is\n",
      "    above a critical size, then we cannot reject that there is a unit root.\n",
      "    \n",
      "    The p-values are obtained through regression surface approximation from\n",
      "    MacKinnon 1994, but using the updated 2010 tables. If the p-value is close\n",
      "    to significant, then the critical values should be used to judge whether\n",
      "    to reject the null.\n",
      "    \n",
      "    The autolag option and maxlag for it are described in Greene.\n",
      "    \n",
      "    References\n",
      "    ----------\n",
      "    .. [1] W. Green.  \"Econometric Analysis,\" 5th ed., Pearson, 2003.\n",
      "    \n",
      "    .. [2] Hamilton, J.D.  \"Time Series Analysis\".  Princeton, 1994.\n",
      "    \n",
      "    .. [3] MacKinnon, J.G. 1994.  \"Approximate asymptotic distribution functions for\n",
      "        unit-root and cointegration tests.  `Journal of Business and Economic\n",
      "        Statistics` 12, 167-76.\n",
      "    \n",
      "    .. [4] MacKinnon, J.G. 2010. \"Critical Values for Cointegration Tests.\"  Queen\"s\n",
      "        University, Dept of Economics, Working Papers.  Available at\n",
      "        http://ideas.repec.org/p/qed/wpaper/1227.html\n",
      "    \n",
      "    Examples\n",
      "    --------\n",
      "    See example notebook\n",
      "\n"
     ]
    }
   ],
   "source": [
    "help(adfuller)"
   ]
  },
  {
   "cell_type": "markdown",
   "id": "7e5851aa",
   "metadata": {},
   "source": [
    "<br>\n",
    "\n",
    "### 시계열 데이터 정상성 만족시키기\n",
    "\n",
    "데이터 프레임을 n차 차분하고 acf, pacf를 다시 구함\n",
    "\n",
    "> DF.diff(periods=차분횟수).iloc[1:]\n",
    "\n",
    "alpha : 신뢰구간 (파란색 구간의 폭으로 나타남)<br>\n",
    "lags : 그래프의 X축 범위"
   ]
  },
  {
   "cell_type": "code",
   "execution_count": 16,
   "id": "c446e204",
   "metadata": {},
   "outputs": [
    {
     "data": {
      "text/plain": [
       "<AxesSubplot:xlabel='day'>"
      ]
     },
     "execution_count": 16,
     "metadata": {},
     "output_type": "execute_result"
    },
    {
     "data": {
      "image/png": "[encoded data removed]",
      "text/plain": [
       "<Figure size 640x480 with 1 Axes>"
      ]
     },
     "metadata": {},
     "output_type": "display_data"
    }
   ],
   "source": [
    "from statsmodels.graphics.tsaplots import plot_acf, plot_pacf\n",
    "\n",
    "diff_data = training.diff(1)\n",
    "diff_data = diff_data.dropna()\n",
    "\n",
    "diff_data.plot()"
   ]
  },
  {
   "cell_type": "code",
   "execution_count": 19,
   "id": "90b5dd2c",
   "metadata": {},
   "outputs": [
    {
     "name": "stdout",
     "output_type": "stream",
     "text": [
      "ADF Statistic: -12.094547576926441\n",
      "p-value: 2.085160639960858e-22\n"
     ]
    }
   ],
   "source": [
    "from statsmodels.tsa.stattools import adfuller\n",
    "\n",
    "adf = adfuller(diff_data)\n",
    "\n",
    "print(f'ADF Statistic: {adf[0]}')\n",
    "print(f'p-value: {adf[1]}')"
   ]
  },
  {
   "cell_type": "code",
   "execution_count": null,
   "id": "85a53b60",
   "metadata": {},
   "outputs": [],
   "source": []
  }
 ],
 "metadata": {
  "kernelspec": {
   "display_name": "Python 3 (ipykernel)",
   "language": "python",
   "name": "python3"
  },
  "language_info": {
   "codemirror_mode": {
    "name": "ipython",
    "version": 3
   },
   "file_extension": ".py",
   "mimetype": "text/x-python",
   "name": "python",
   "nbconvert_exporter": "python",
   "pygments_lexer": "ipython3",
   "version": "3.9.13"
  }
 },
 "nbformat": 4,
 "nbformat_minor": 5
}
