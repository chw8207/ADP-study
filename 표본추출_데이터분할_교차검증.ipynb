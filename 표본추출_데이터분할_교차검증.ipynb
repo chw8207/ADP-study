{
 "cells": [
  {
   "cell_type": "code",
   "execution_count": 26,
   "metadata": {},
   "outputs": [],
   "source": [
    "from sklearn.datasets import load_iris\n",
    "import pandas as pd\n",
    "import numpy as np\n",
    "import matplotlib.pyplot as plt\n",
    "import seaborn as sns\n",
    "import random\n",
    "from sklearn.model_selection import train_test_split, ShuffleSplit, KFold, StratifiedKFold\n",
    "from collections import Counter\n",
    "%matplotlib inline"
   ]
  },
  {
   "cell_type": "markdown",
   "metadata": {},
   "source": [
    "### 표본추출"
   ]
  },
  {
   "cell_type": "markdown",
   "metadata": {},
   "source": [
    "#### 단순랜덤추출법"
   ]
  },
  {
   "cell_type": "code",
   "execution_count": 2,
   "metadata": {},
   "outputs": [
    {
     "name": "stdout",
     "output_type": "stream",
     "text": [
      "   sepal length  sepal width  petal length  petal width  target\n",
      "0           5.1          3.5           1.4          0.2     0.0\n",
      "1           4.9          3.0           1.4          0.2     0.0\n",
      "2           4.7          3.2           1.3          0.2     0.0\n"
     ]
    }
   ],
   "source": [
    "data = load_iris()\n",
    "iris_cols = list(data['feature_names']) + ['target']\n",
    "iris = pd.DataFrame(np.c_[data['data'], data['target']], columns=\n",
    "                    [col.replace(' (cm)', '') for col in iris_cols])\n",
    "print(iris.head(3))"
   ]
  },
  {
   "cell_type": "code",
   "execution_count": 3,
   "metadata": {},
   "outputs": [
    {
     "data": {
      "text/plain": [
       "[4, 'b', 5, 2]"
      ]
     },
     "execution_count": 3,
     "metadata": {},
     "output_type": "execute_result"
    }
   ],
   "source": [
    "data_list = [1,2,3,4,5,'a','b','c']\n",
    "random.sample(data_list, 4)"
   ]
  },
  {
   "cell_type": "code",
   "execution_count": 4,
   "metadata": {},
   "outputs": [
    {
     "data": {
      "text/plain": [
       "array(['c', '1', 'b', 'b'], dtype='<U11')"
      ]
     },
     "execution_count": 4,
     "metadata": {},
     "output_type": "execute_result"
    }
   ],
   "source": [
    "# 넘파이 라이브러리\n",
    "np.random.choice(data_list, 4, replace=True)"
   ]
  },
  {
   "cell_type": "code",
   "execution_count": 5,
   "metadata": {},
   "outputs": [
    {
     "name": "stdout",
     "output_type": "stream",
     "text": [
      "0~10 사이의 정수 중 3개의 난수 생성:  [3 8 3]\n",
      "0~1 사이의 실수를 2*2 배열로 생성:\n",
      " [[0.20580088 0.39284645]\n",
      " [0.49833292 0.82017272]]\n"
     ]
    }
   ],
   "source": [
    "# 특정 범위 내의 정수/실수의 난수 생성\n",
    "print('0~10 사이의 정수 중 3개의 난수 생성: ', np.random.randint(0, 10, 3))\n",
    "print('0~1 사이의 실수를 2*2 배열로 생성:\\n', np.random.rand(2,2))"
   ]
  },
  {
   "cell_type": "code",
   "execution_count": 6,
   "metadata": {},
   "outputs": [
    {
     "name": "stdout",
     "output_type": "stream",
     "text": [
      "     sepal length  sepal width  petal length  petal width  target\n",
      "126           6.2          2.8           4.8          1.8     2.0\n",
      "60            5.0          2.0           3.5          1.0     1.0\n",
      "119           6.0          2.2           5.0          1.5     2.0\n"
     ]
    }
   ],
   "source": [
    "print(iris.sample(n=3, replace=False))"
   ]
  },
  {
   "cell_type": "code",
   "execution_count": 7,
   "metadata": {},
   "outputs": [
    {
     "name": "stdout",
     "output_type": "stream",
     "text": [
      "    sepal length  sepal width  petal length  petal width  target\n",
      "9            4.9          3.1           1.5          0.1     0.0\n",
      "79           5.7          2.6           3.5          1.0     1.0\n",
      "61           5.9          3.0           4.2          1.5     1.0\n",
      "70           5.9          3.2           4.8          1.8     1.0\n"
     ]
    }
   ],
   "source": [
    "# frac 파라미터로 전체 데이터의 3%를 랜덤으로 추출할 수 있음.\n",
    "print(iris.sample(frac=0.03))"
   ]
  },
  {
   "cell_type": "code",
   "execution_count": 8,
   "metadata": {},
   "outputs": [
    {
     "name": "stdout",
     "output_type": "stream",
     "text": [
      "     sepal length  sepal width  petal length  petal width  target\n",
      "129           7.2          3.0           5.8          1.6     2.0\n",
      "23            5.1          3.3           1.7          0.5     0.0\n",
      "149           5.9          3.0           5.1          1.8     2.0\n",
      "4             5.0          3.6           1.4          0.2     0.0\n"
     ]
    }
   ],
   "source": [
    "print(iris.sample(frac=0.03, weights='sepal length'))"
   ]
  },
  {
   "cell_type": "code",
   "execution_count": 9,
   "metadata": {},
   "outputs": [
    {
     "name": "stdout",
     "output_type": "stream",
     "text": [
      "   petal width  sepal length  sepal width\n",
      "0          0.2           5.1          3.5\n",
      "1          0.2           4.9          3.0\n",
      "2          0.2           4.7          3.2\n"
     ]
    }
   ],
   "source": [
    "print(iris.sample(3, axis=1).head(3))"
   ]
  },
  {
   "cell_type": "markdown",
   "metadata": {},
   "source": [
    "- 계통추출법"
   ]
  },
  {
   "cell_type": "code",
   "execution_count": 10,
   "metadata": {},
   "outputs": [
    {
     "name": "stdout",
     "output_type": "stream",
     "text": [
      "     sepal length  sepal width  petal length  petal width  target\n",
      "15            5.7          4.4           1.5          0.4     0.0\n",
      "33            5.5          4.2           1.4          0.2     0.0\n",
      "51            6.4          3.2           4.5          1.5     1.0\n",
      "69            5.6          2.5           3.9          1.1     1.0\n",
      "87            6.3          2.3           4.4          1.3     1.0\n",
      "105           7.6          3.0           6.6          2.1     2.0\n",
      "123           6.3          2.7           4.9          1.8     2.0\n",
      "141           6.9          3.1           5.1          2.3     2.0\n"
     ]
    }
   ],
   "source": [
    "def sys_sampling(data, n) : \n",
    "    N = len(data)\n",
    "    K = N//n\n",
    "    index = data[:K].sample(1).index  # 첫 구간에서 임의로 선택한 샘플 1개의 인덱스\n",
    "    # index개씩 띄어서 각 구간에서 하나씩 샘플 추출\n",
    "    sys_df = pd.DataFrame()\n",
    "    while len(sys_df) < n : \n",
    "        # sys_df = sys_df.append(data.loc[index,:])\n",
    "        sys_df = pd.concat([sys_df, data.loc[index,:]])\n",
    "        index += K\n",
    "    return sys_df\n",
    "\n",
    "print(sys_sampling(iris, 8))"
   ]
  },
  {
   "cell_type": "markdown",
   "metadata": {},
   "source": [
    "- 집락 추출법/층화추출법"
   ]
  },
  {
   "cell_type": "code",
   "execution_count": 11,
   "metadata": {},
   "outputs": [],
   "source": [
    "def start_random_sampling(data, stratum, sampling_no, proportion=True) :\n",
    "    if proportion == True : # 비례층화추출법: 원본 데이터 개수의 비율대로 추출\n",
    "        levels = data[stratum].unique()\n",
    "        total = data[stratum].value_counts().sum()\n",
    "        prop_val = data[stratum].value_counts()/total\n",
    "        no = prop_val * sampling_no\n",
    "        result = pd.DataFrame()\n",
    "        for level in levels : \n",
    "            temp_df = data[data[stratum]==level].sample(int(no[level]))\n",
    "            result = pd.concat([result, temp_df])\n",
    "\n",
    "    else :  # 불비례층화추출법: 임의로 정한 특정 비율대로 샘플링\n",
    "        levels = list(proportion.keys())\n",
    "        prop_val = np.array(list(proportion.values()))\n",
    "        total = sum(prop_val)\n",
    "        no = prop_val * sampling_no\n",
    "        if total != 1 : \n",
    "            raise Exception('proportion sum is supposed to be 1.')\n",
    "        else : \n",
    "            result = pd.DataFrame()\n",
    "            for level in levels : \n",
    "                temp_df = data[data[stratum]==level].sample(int(no[level]))\n",
    "                result = pd.concat([result, temp_df])\n",
    "\n",
    "    return result"
   ]
  },
  {
   "cell_type": "code",
   "execution_count": 12,
   "metadata": {},
   "outputs": [
    {
     "data": {
      "text/plain": [
       "0.0    50\n",
       "1.0    50\n",
       "2.0    50\n",
       "Name: target, dtype: int64"
      ]
     },
     "execution_count": 12,
     "metadata": {},
     "output_type": "execute_result"
    }
   ],
   "source": [
    "# 원본 층별 데이터 개수 확인: 층별로 동일하게 50개씩 관측값을 가지는 데이터\n",
    "iris['target'].value_counts()"
   ]
  },
  {
   "cell_type": "code",
   "execution_count": 13,
   "metadata": {},
   "outputs": [
    {
     "name": "stdout",
     "output_type": "stream",
     "text": [
      "     sepal length  sepal width  petal length  petal width  target\n",
      "5             5.4          3.9           1.7          0.4     0.0\n",
      "6             4.6          3.4           1.4          0.3     0.0\n",
      "38            4.4          3.0           1.3          0.2     0.0\n",
      "61            5.9          3.0           4.2          1.5     1.0\n",
      "70            5.9          3.2           4.8          1.8     1.0\n",
      "95            5.7          3.0           4.2          1.2     1.0\n",
      "115           6.4          3.2           5.3          2.3     2.0\n",
      "134           6.1          2.6           5.6          1.4     2.0\n",
      "139           6.9          3.1           5.4          2.1     2.0\n"
     ]
    }
   ],
   "source": [
    "# 비례층화추출법으로 9개 샘플링하기: 원본과 동일한 비율로 샘플링하기\n",
    "print(start_random_sampling(iris, 'target', 9))"
   ]
  },
  {
   "cell_type": "code",
   "execution_count": 14,
   "metadata": {},
   "outputs": [
    {
     "name": "stdout",
     "output_type": "stream",
     "text": [
      "     sepal length  sepal width  petal length  petal width  target\n",
      "27            5.2          3.5           1.5          0.2     0.0\n",
      "48            5.3          3.7           1.5          0.2     0.0\n",
      "56            6.3          3.3           4.7          1.6     1.0\n",
      "93            5.0          2.3           3.3          1.0     1.0\n",
      "55            5.7          2.8           4.5          1.3     1.0\n",
      "99            5.7          2.8           4.1          1.3     1.0\n",
      "80            5.5          2.4           3.8          1.1     1.0\n",
      "128           6.4          2.8           5.6          2.1     2.0\n",
      "149           5.9          3.0           5.1          1.8     2.0\n",
      "109           7.2          3.6           6.1          2.5     2.0\n"
     ]
    }
   ],
   "source": [
    "# 불비례층화추출법으로 10개 샘플링하기: 임의로 정한 비율로 샘플링하기\n",
    "print(start_random_sampling(iris, 'target', 10, proportion={0:0.2, 1:0.5,\n",
    "                                                            2:0.3}))"
   ]
  },
  {
   "cell_type": "markdown",
   "metadata": {},
   "source": [
    "### 데이터 분할"
   ]
  },
  {
   "cell_type": "markdown",
   "metadata": {},
   "source": [
    "- 일반적인 데이터 분할 및 홀드아웃 방법"
   ]
  },
  {
   "cell_type": "code",
   "execution_count": 16,
   "metadata": {},
   "outputs": [
    {
     "name": "stdout",
     "output_type": "stream",
     "text": [
      "X_train(y_train): 105(105), X_test(y_test): 45(45)\n",
      "X_train의 비율: 0.70, X_test의 비율: 0.30 \n",
      "\n",
      "X_train(y_train): 75(75), X_test(y_test) 75(75)\n",
      "X_train의 비율: 0.50, X_test의 비율: 0.50\n"
     ]
    }
   ],
   "source": [
    "X = iris.drop('target', axis=1)\n",
    "y = iris.filter(['target'])\n",
    "\n",
    "# 일반적 데이터 분할\n",
    "X_train, X_test, y_train, y_test = train_test_split(X, y, test_size=0.3)\n",
    "print('X_train(y_train): %d(%d), X_test(y_test): %d(%d)' % (len(X_train), len(y_train), len(X_test), len(y_test)))\n",
    "print('X_train의 비율: %0.2f, X_test의 비율: %0.2f' % (len(X_train)/len(X), len(X_test)/len(X)), '\\n')\n",
    "\n",
    "# 홀드아웃 방법\n",
    "X_train, X_test, y_train, y_test = train_test_split(X, y, test_size=0.5)\n",
    "print('X_train(y_train): %d(%d), X_test(y_test) %d(%d)' % (len(X_train), len(y_train), len(X_test), len(y_test)))\n",
    "print('X_train의 비율: %0.2f, X_test의 비율: %0.2f' % (len(X_train)/len(X), len(X_test)/len(X)))"
   ]
  },
  {
   "cell_type": "markdown",
   "metadata": {},
   "source": [
    "- Bootstrap: 랜덤복원추출"
   ]
  },
  {
   "cell_type": "code",
   "execution_count": 21,
   "metadata": {},
   "outputs": [
    {
     "name": "stdout",
     "output_type": "stream",
     "text": [
      "Sample 0 ==> train_index: Int64Index([98, 19, 96], dtype='int64'), test_index: Int64Index([4, 8, 9], dtype='int64')\n",
      "\tX_train의 비율: 0.70, X_test의 비율: 0.30\n",
      "\ty_train의 타겟 구성: Counter({0.0: 40, 2.0: 35, 1.0: 30})\n",
      "\ty_test의 타겟 구성: Counter({1.0: 20, 2.0: 15, 0.0: 10}) \n",
      "\n",
      "Sample 1 ==> train_index: Int64Index([73, 111, 114], dtype='int64'), test_index: Int64Index([0, 4, 7], dtype='int64')\n",
      "\tX_train의 비율: 0.70, X_test의 비율: 0.30\n",
      "\ty_train의 타겟 구성: Counter({2.0: 37, 1.0: 35, 0.0: 33})\n",
      "\ty_test의 타겟 구성: Counter({0.0: 17, 1.0: 15, 2.0: 13}) \n",
      "\n",
      "Sample 2 ==> train_index: Int64Index([16, 97, 72], dtype='int64'), test_index: Int64Index([1, 2, 4], dtype='int64')\n",
      "\tX_train의 비율: 0.70, X_test의 비율: 0.30\n",
      "\ty_train의 타겟 구성: Counter({1.0: 38, 2.0: 35, 0.0: 32})\n",
      "\ty_test의 타겟 구성: Counter({0.0: 18, 2.0: 15, 1.0: 12}) \n",
      "\n"
     ]
    }
   ],
   "source": [
    "def Bootstrap(X, y, test_size = 0.3) : \n",
    "    train_size = 1 - test_size\n",
    "    train_X = X.sample(frac=train_size)\n",
    "    sampled_train_id = train_X.index\n",
    "    sampled_test_id = X.drop(train_X.index, axis=0).index\n",
    "    train_y = y.iloc[sampled_train_id,:]\n",
    "    test_X = X.iloc[sampled_test_id,:]\n",
    "    test_y = y.iloc[sampled_test_id,:]\n",
    "    return train_X, test_X, train_y, test_y\n",
    "\n",
    "for i in range(3) : \n",
    "    X_train, X_test, y_train, y_test = Bootstrap(X, y)\n",
    "    print(f'Sample {i} ==> train_index: {X_train.index[:3]}, test_index: {X_test.index[:3]}')\n",
    "    print('\\tX_train의 비율: %0.2f, X_test의 비율: %0.2f' % (len(X_train)/len(X), len(X_test)/len(X)))\n",
    "    print('\\ty_train의 타겟 구성:', Counter(y_train['target']))\n",
    "    print('\\ty_test의 타겟 구성:', Counter(y_test['target']), '\\n')\n"
   ]
  },
  {
   "cell_type": "markdown",
   "metadata": {},
   "source": [
    "- Shuffle Split: 무작위 순열 교차 검증"
   ]
  },
  {
   "cell_type": "code",
   "execution_count": 23,
   "metadata": {},
   "outputs": [
    {
     "name": "stdout",
     "output_type": "stream",
     "text": [
      "Sample 0 ==> train_index: [146 106  14], test_index: [ 62 131 107]\n",
      "\tX_train의 비율: 0.50, X_test의 비율: 0.50\n",
      "\ty_train의 타겟 구성: Counter({2.0: 26, 1.0: 26, 0.0: 23})\n",
      "\ty_test의 타겟 구성: Counter({0.0: 27, 1.0: 24, 2.0: 24}) \n",
      "\n",
      "Sample 1 ==> train_index: [111  87  48], test_index: [ 33 144   9]\n",
      "\tX_train의 비율: 0.50, X_test의 비율: 0.50\n",
      "\ty_train의 타겟 구성: Counter({2.0: 31, 1.0: 24, 0.0: 20})\n",
      "\ty_test의 타겟 구성: Counter({0.0: 30, 1.0: 26, 2.0: 19}) \n",
      "\n",
      "Sample 2 ==> train_index: [ 10 124  62], test_index: [ 71 116  16]\n",
      "\tX_train의 비율: 0.50, X_test의 비율: 0.50\n",
      "\ty_train의 타겟 구성: Counter({0.0: 26, 2.0: 26, 1.0: 23})\n",
      "\ty_test의 타겟 구성: Counter({1.0: 27, 2.0: 24, 0.0: 24}) \n",
      "\n"
     ]
    }
   ],
   "source": [
    "ss = ShuffleSplit(test_size=0.5, train_size=0.5, n_splits=3)\n",
    "for i, (train_index, test_index) in enumerate(ss.split(X)) : \n",
    "    print(f'Sample {i} ==> train_index: {train_index[:3]}, test_index: {test_index[:3]}')\n",
    "    X_train, X_test, y_train, y_test = X.iloc[train_index,:], X.iloc[test_index], y.iloc[train_index], y.iloc[test_index]\n",
    "    print('\\tX_train의 비율: %0.2f, X_test의 비율: %0.2f' % (len(X_train)/len(X), len(X_test)/len(X)))\n",
    "    print('\\ty_train의 타겟 구성:', Counter(y_train['target']))\n",
    "    print('\\ty_test의 타겟 구성:', Counter(y_test['target']), '\\n')"
   ]
  },
  {
   "cell_type": "markdown",
   "metadata": {},
   "source": [
    "- K-fold 분할"
   ]
  },
  {
   "cell_type": "code",
   "execution_count": 25,
   "metadata": {},
   "outputs": [
    {
     "name": "stdout",
     "output_type": "stream",
     "text": [
      "Sample 0 ==> train_index: [38 39 40], test_index: [0 1 2]\n",
      "\tX_train의 비율: 0.75, X_test의 비율: 0.25\n",
      "\ty_train의 타겟 구성: Counter({1.0: 50, 2.0: 50, 0.0: 12})\n",
      "\ty_test의 타겟 구성: Counter({0.0: 38}) \n",
      "\n",
      "Sample 1 ==> train_index: [0 1 2], test_index: [38 39 40]\n",
      "\tX_train의 비율: 0.75, X_test의 비율: 0.25\n",
      "\ty_train의 타겟 구성: Counter({2.0: 50, 0.0: 38, 1.0: 24})\n",
      "\ty_test의 타겟 구성: Counter({1.0: 26, 0.0: 12}) \n",
      "\n",
      "Sample 2 ==> train_index: [0 1 2], test_index: [76 77 78]\n",
      "\tX_train의 비율: 0.75, X_test의 비율: 0.25\n",
      "\ty_train의 타겟 구성: Counter({0.0: 50, 2.0: 37, 1.0: 26})\n",
      "\ty_test의 타겟 구성: Counter({1.0: 24, 2.0: 13}) \n",
      "\n",
      "Sample 3 ==> train_index: [0 1 2], test_index: [113 114 115]\n",
      "\tX_train의 비율: 0.75, X_test의 비율: 0.25\n",
      "\ty_train의 타겟 구성: Counter({0.0: 50, 1.0: 50, 2.0: 13})\n",
      "\ty_test의 타겟 구성: Counter({2.0: 37}) \n",
      "\n"
     ]
    }
   ],
   "source": [
    "kf = KFold(n_splits=4, shuffle=False)\n",
    "for i, (train_index, test_index) in enumerate(kf.split(X)) : \n",
    "    print(f'Sample {i} ==> train_index: {train_index[:3]}, test_index: {test_index[:3]}')\n",
    "    X_train, X_test, y_train, y_test = X.iloc[train_index,:], X.iloc[test_index], y.iloc[train_index], y.iloc[test_index]\n",
    "    print('\\tX_train의 비율: %0.2f, X_test의 비율: %0.2f' % (len(X_train)/len(X), len(X_test)/len(X)))\n",
    "    print('\\ty_train의 타겟 구성:', Counter(y_train['target']))\n",
    "    print('\\ty_test의 타겟 구성:', Counter(y_test['target']), '\\n')"
   ]
  },
  {
   "cell_type": "markdown",
   "metadata": {},
   "source": [
    "- Stratified K-fold 분할: 불균형 방지"
   ]
  },
  {
   "cell_type": "code",
   "execution_count": 27,
   "metadata": {},
   "outputs": [
    {
     "name": "stdout",
     "output_type": "stream",
     "text": [
      "Sample 0 ==> train_index: [13 14 15], test_index: [0 1 2]\n",
      "\tX_train의 비율: 0.75, X_test의 비율: 0.25\n",
      "\ty_train의 타겟 구성: Counter({1.0: 38, 0.0: 37, 2.0: 37})\n",
      "\ty_test의 타겟 구성: Counter({0.0: 13, 2.0: 13, 1.0: 12})\n",
      "Sample 1 ==> train_index: [0 1 2], test_index: [13 14 15]\n",
      "\tX_train의 비율: 0.75, X_test의 비율: 0.25\n",
      "\ty_train의 타겟 구성: Counter({1.0: 38, 0.0: 37, 2.0: 37})\n",
      "\ty_test의 타겟 구성: Counter({0.0: 13, 2.0: 13, 1.0: 12})\n",
      "Sample 2 ==> train_index: [0 1 2], test_index: [26 27 28]\n",
      "\tX_train의 비율: 0.75, X_test의 비율: 0.25\n",
      "\ty_train의 타겟 구성: Counter({0.0: 38, 2.0: 38, 1.0: 37})\n",
      "\ty_test의 타겟 구성: Counter({1.0: 13, 0.0: 12, 2.0: 12})\n",
      "Sample 3 ==> train_index: [0 1 2], test_index: [38 39 40]\n",
      "\tX_train의 비율: 0.75, X_test의 비율: 0.25\n",
      "\ty_train의 타겟 구성: Counter({0.0: 38, 2.0: 38, 1.0: 37})\n",
      "\ty_test의 타겟 구성: Counter({1.0: 13, 0.0: 12, 2.0: 12})\n"
     ]
    }
   ],
   "source": [
    "skf = StratifiedKFold(n_splits=4)\n",
    "# 분할 시 y를 고려해야 하기 때문에 split에 y를 입력해 주어야 함.\n",
    "for i, (train_index, test_index) in enumerate(skf.split(X, y)) : \n",
    "    print(f'Sample {i} ==> train_index: {train_index[:3]}, test_index: {test_index[:3]}')\n",
    "    X_train, X_test, y_train, y_test = X.iloc[train_index,:], X.iloc[test_index], y.iloc[train_index], y.iloc[test_index]\n",
    "    print('\\tX_train의 비율: %0.2f, X_test의 비율: %0.2f' % (len(X_train)/len(X), len(X_test)/len(X)))\n",
    "    print('\\ty_train의 타겟 구성:', Counter(y_train['target']))\n",
    "    print('\\ty_test의 타겟 구성:', Counter(y_test['target']))"
   ]
  },
  {
   "cell_type": "markdown",
   "metadata": {},
   "source": [
    "- Group K-fold 분할"
   ]
  },
  {
   "cell_type": "code",
   "execution_count": null,
   "metadata": {},
   "outputs": [],
   "source": []
  }
 ],
 "metadata": {
  "kernelspec": {
   "display_name": "base",
   "language": "python",
   "name": "python3"
  },
  "language_info": {
   "codemirror_mode": {
    "name": "ipython",
    "version": 3
   },
   "file_extension": ".py",
   "mimetype": "text/x-python",
   "name": "python",
   "nbconvert_exporter": "python",
   "pygments_lexer": "ipython3",
   "version": "3.9.13"
  },
  "orig_nbformat": 4
 },
 "nbformat": 4,
 "nbformat_minor": 2
}
