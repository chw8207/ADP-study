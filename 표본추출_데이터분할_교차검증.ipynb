{
 "cells": [
  {
   "cell_type": "code",
   "execution_count": 3,
   "metadata": {},
   "outputs": [],
   "source": [
    "from sklearn.datasets import load_iris\n",
    "import pandas as pd\n",
    "import numpy as np\n",
    "import matplotlib.pyplot as plt\n",
    "import seaborn as sns\n",
    "import random\n",
    "%matplotlib inline"
   ]
  },
  {
   "cell_type": "markdown",
   "metadata": {},
   "source": [
    "### 표본추출"
   ]
  },
  {
   "cell_type": "markdown",
   "metadata": {},
   "source": [
    "#### 단순랜덤추출법"
   ]
  },
  {
   "cell_type": "code",
   "execution_count": 16,
   "metadata": {},
   "outputs": [
    {
     "name": "stdout",
     "output_type": "stream",
     "text": [
      "   sepal length  sepal width  petal length  petal width  target\n",
      "0           5.1          3.5           1.4          0.2     0.0\n",
      "1           4.9          3.0           1.4          0.2     0.0\n",
      "2           4.7          3.2           1.3          0.2     0.0\n"
     ]
    }
   ],
   "source": [
    "data = load_iris()\n",
    "iris_cols = list(data['feature_names']) + ['target']\n",
    "iris = pd.DataFrame(np.c_[data['data'], data['target']], columns=\n",
    "                    [col.replace(' (cm)', '') for col in iris_cols])\n",
    "print(iris.head(3))"
   ]
  },
  {
   "cell_type": "code",
   "execution_count": 17,
   "metadata": {},
   "outputs": [
    {
     "data": {
      "text/plain": [
       "[3, 1, 'a', 4]"
      ]
     },
     "execution_count": 17,
     "metadata": {},
     "output_type": "execute_result"
    }
   ],
   "source": [
    "data_list = [1,2,3,4,5,'a','b','c']\n",
    "random.sample(data_list, 4)"
   ]
  },
  {
   "cell_type": "code",
   "execution_count": 18,
   "metadata": {},
   "outputs": [
    {
     "data": {
      "text/plain": [
       "array(['a', 'c', 'a', '2'], dtype='<U11')"
      ]
     },
     "execution_count": 18,
     "metadata": {},
     "output_type": "execute_result"
    }
   ],
   "source": [
    "# 넘파이 라이브러리\n",
    "np.random.choice(data_list, 4, replace=True)"
   ]
  },
  {
   "cell_type": "code",
   "execution_count": 19,
   "metadata": {},
   "outputs": [
    {
     "name": "stdout",
     "output_type": "stream",
     "text": [
      "0~10 사이의 정수 중 3개의 난수 생성:  [4 8 6]\n",
      "0~1 사이의 실수를 2*2 배열로 생성:\n",
      " [[0.49208893 0.68524872]\n",
      " [0.83561078 0.18670298]]\n"
     ]
    }
   ],
   "source": [
    "# 특정 범위 내의 정수/실수의 난수 생성\n",
    "print('0~10 사이의 정수 중 3개의 난수 생성: ', np.random.randint(0, 10, 3))\n",
    "print('0~1 사이의 실수를 2*2 배열로 생성:\\n', np.random.rand(2,2))"
   ]
  },
  {
   "cell_type": "code",
   "execution_count": 20,
   "metadata": {},
   "outputs": [
    {
     "name": "stdout",
     "output_type": "stream",
     "text": [
      "     sepal length  sepal width  petal length  petal width  target\n",
      "114           5.8          2.8           5.1          2.4     2.0\n",
      "106           4.9          2.5           4.5          1.7     2.0\n",
      "142           5.8          2.7           5.1          1.9     2.0\n"
     ]
    }
   ],
   "source": [
    "print(iris.sample(n=3, replace=False))"
   ]
  },
  {
   "cell_type": "code",
   "execution_count": 21,
   "metadata": {},
   "outputs": [
    {
     "name": "stdout",
     "output_type": "stream",
     "text": [
      "     sepal length  sepal width  petal length  petal width  target\n",
      "82            5.8          2.7           3.9          1.2     1.0\n",
      "144           6.7          3.3           5.7          2.5     2.0\n",
      "81            5.5          2.4           3.7          1.0     1.0\n",
      "2             4.7          3.2           1.3          0.2     0.0\n"
     ]
    }
   ],
   "source": [
    "# frac 파라미터로 전체 데이터의 3%를 랜덤으로 추출할 수 있음.\n",
    "print(iris.sample(frac=0.03))"
   ]
  },
  {
   "cell_type": "code",
   "execution_count": 22,
   "metadata": {},
   "outputs": [
    {
     "name": "stdout",
     "output_type": "stream",
     "text": [
      "     sepal length  sepal width  petal length  petal width  target\n",
      "6             4.6          3.4           1.4          0.3     0.0\n",
      "15            5.7          4.4           1.5          0.4     0.0\n",
      "7             5.0          3.4           1.5          0.2     0.0\n",
      "145           6.7          3.0           5.2          2.3     2.0\n"
     ]
    }
   ],
   "source": [
    "print(iris.sample(frac=0.03, weights='sepal length'))"
   ]
  },
  {
   "cell_type": "code",
   "execution_count": 23,
   "metadata": {},
   "outputs": [
    {
     "name": "stdout",
     "output_type": "stream",
     "text": [
      "   petal length  petal width  sepal length\n",
      "0           1.4          0.2           5.1\n",
      "1           1.4          0.2           4.9\n",
      "2           1.3          0.2           4.7\n"
     ]
    }
   ],
   "source": [
    "print(iris.sample(3, axis=1).head(3))"
   ]
  },
  {
   "cell_type": "markdown",
   "metadata": {},
   "source": [
    "- 계통추출법"
   ]
  },
  {
   "cell_type": "code",
   "execution_count": 25,
   "metadata": {},
   "outputs": [
    {
     "name": "stdout",
     "output_type": "stream",
     "text": [
      "     sepal length  sepal width  petal length  petal width  target\n",
      "2             4.7          3.2           1.3          0.2     0.0\n",
      "20            5.4          3.4           1.7          0.2     0.0\n",
      "38            4.4          3.0           1.3          0.2     0.0\n",
      "56            6.3          3.3           4.7          1.6     1.0\n",
      "74            6.4          2.9           4.3          1.3     1.0\n",
      "92            5.8          2.6           4.0          1.2     1.0\n",
      "110           6.5          3.2           5.1          2.0     2.0\n",
      "128           6.4          2.8           5.6          2.1     2.0\n"
     ]
    }
   ],
   "source": [
    "def sys_sampling(data, n) : \n",
    "    N = len(data)\n",
    "    K = N//n\n",
    "    index = data[:K].sample(1).index  # 첫 구간에서 임의로 선택한 샘플 1개의 인덱스\n",
    "    # index개씩 띄어서 각 구간에서 하나씩 샘플 추출\n",
    "    sys_df = pd.DataFrame()\n",
    "    while len(sys_df) < n : \n",
    "        # sys_df = sys_df.append(data.loc[index,:])\n",
    "        sys_df = pd.concat([sys_df, data.loc[index,:]])\n",
    "        index += K\n",
    "    return sys_df\n",
    "\n",
    "print(sys_sampling(iris, 8))"
   ]
  },
  {
   "cell_type": "markdown",
   "metadata": {},
   "source": [
    "- 집락 추출법/층화추출법"
   ]
  },
  {
   "cell_type": "code",
   "execution_count": 34,
   "metadata": {},
   "outputs": [],
   "source": [
    "def start_random_sampling(data, stratum, sampling_no, proportion=True) :\n",
    "    if proportion == True : # 비례층화추출법: 원본 데이터 개수의 비율대로 추출\n",
    "        levels = data[stratum].unique()\n",
    "        total = data[stratum].value_counts().sum()\n",
    "        prop_val = data[stratum].value_counts()/total\n",
    "        no = prop_val * sampling_no\n",
    "        result = pd.DataFrame()\n",
    "        for level in levels : \n",
    "            temp_df = data[data[stratum]==level].sample(int(no[level]))\n",
    "            result = pd.concat([result, temp_df])\n",
    "\n",
    "    else :  # 불비례층화추출법: 임의로 정한 특정 비율대로 샘플링\n",
    "        levels = list(proportion.keys())\n",
    "        prop_val = np.array(list(proportion.values()))\n",
    "        total = sum(prop_val)\n",
    "        no = prop_val * sampling_no\n",
    "        if total != 1 : \n",
    "            raise Exception('proportion sum is supposed to be 1.')\n",
    "        else : \n",
    "            result = pd.DataFrame()\n",
    "            for level in levels : \n",
    "                temp_df = data[data[stratum]==level].sample(int(no[level]))\n",
    "                result = pd.concat([result, temp_df])\n",
    "\n",
    "    return result"
   ]
  },
  {
   "cell_type": "code",
   "execution_count": 35,
   "metadata": {},
   "outputs": [
    {
     "data": {
      "text/plain": [
       "0.0    50\n",
       "1.0    50\n",
       "2.0    50\n",
       "Name: target, dtype: int64"
      ]
     },
     "execution_count": 35,
     "metadata": {},
     "output_type": "execute_result"
    }
   ],
   "source": [
    "# 원본 층별 데이터 개수 확인: 층별로 동일하게 50개씩 관측값을 가지는 데이터\n",
    "iris['target'].value_counts()"
   ]
  },
  {
   "cell_type": "code",
   "execution_count": 36,
   "metadata": {},
   "outputs": [
    {
     "name": "stdout",
     "output_type": "stream",
     "text": [
      "     sepal length  sepal width  petal length  petal width  target\n",
      "38            4.4          3.0           1.3          0.2     0.0\n",
      "37            4.9          3.6           1.4          0.1     0.0\n",
      "4             5.0          3.6           1.4          0.2     0.0\n",
      "99            5.7          2.8           4.1          1.3     1.0\n",
      "58            6.6          2.9           4.6          1.3     1.0\n",
      "73            6.1          2.8           4.7          1.2     1.0\n",
      "139           6.9          3.1           5.4          2.1     2.0\n",
      "135           7.7          3.0           6.1          2.3     2.0\n",
      "100           6.3          3.3           6.0          2.5     2.0\n"
     ]
    }
   ],
   "source": [
    "# 비례층화추출법으로 9개 샘플링하기: 원본과 동일한 비율로 샘플링하기\n",
    "print(start_random_sampling(iris, 'target', 9))"
   ]
  },
  {
   "cell_type": "code",
   "execution_count": 37,
   "metadata": {},
   "outputs": [
    {
     "name": "stdout",
     "output_type": "stream",
     "text": [
      "     sepal length  sepal width  petal length  petal width  target\n",
      "23            5.1          3.3           1.7          0.5     0.0\n",
      "15            5.7          4.4           1.5          0.4     0.0\n",
      "71            6.1          2.8           4.0          1.3     1.0\n",
      "74            6.4          2.9           4.3          1.3     1.0\n",
      "99            5.7          2.8           4.1          1.3     1.0\n",
      "53            5.5          2.3           4.0          1.3     1.0\n",
      "51            6.4          3.2           4.5          1.5     1.0\n",
      "127           6.1          3.0           4.9          1.8     2.0\n",
      "102           7.1          3.0           5.9          2.1     2.0\n",
      "121           5.6          2.8           4.9          2.0     2.0\n"
     ]
    }
   ],
   "source": [
    "# 불비례층화추출법으로 10개 샘플링하기: 임의로 정한 비율로 샘플링하기\n",
    "print(start_random_sampling(iris, 'target', 10, proportion={0:0.2, 1:0.5,\n",
    "                                                            2:0.3}))"
   ]
  }
 ],
 "metadata": {
  "kernelspec": {
   "display_name": "base",
   "language": "python",
   "name": "python3"
  },
  "language_info": {
   "codemirror_mode": {
    "name": "ipython",
    "version": 3
   },
   "file_extension": ".py",
   "mimetype": "text/x-python",
   "name": "python",
   "nbconvert_exporter": "python",
   "pygments_lexer": "ipython3",
   "version": "3.9.13"
  },
  "orig_nbformat": 4
 },
 "nbformat": 4,
 "nbformat_minor": 2
}
