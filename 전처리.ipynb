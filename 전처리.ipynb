{
 "cells": [
  {
   "cell_type": "code",
   "execution_count": 1,
   "metadata": {},
   "outputs": [],
   "source": [
    "import pandas as pd\n",
    "import numpy as np\n",
    "import matplotlib.pyplot as plt\n",
    "%matplotlib inline"
   ]
  },
  {
   "cell_type": "markdown",
   "metadata": {},
   "source": [
    "### 결측치 처리"
   ]
  },
  {
   "cell_type": "markdown",
   "metadata": {},
   "source": [
    "- 결측치 확인"
   ]
  },
  {
   "cell_type": "code",
   "execution_count": 2,
   "metadata": {},
   "outputs": [
    {
     "name": "stdout",
     "output_type": "stream",
     "text": [
      "**원본 데이터:\n",
      " class                           0\n",
      "Alcohol                         0\n",
      "Malicacid                       0\n",
      "Ash                             0\n",
      "Alcalinity_of_ash               0\n",
      "Magnesium                       0\n",
      "Total_phenols                   0\n",
      "Flavanoids                      0\n",
      "Nonflavanoid_phenols            0\n",
      "Proanthocyanins                 0\n",
      "Color_intensity                 0\n",
      "Hue                             0\n",
      "0D280_0D315_of_diluted_wines    0\n",
      "Proline                         0\n",
      "dtype: int64\n"
     ]
    }
   ],
   "source": [
    "wine = pd.read_csv('./data/2-1_wine.csv', index_col=0)\n",
    "print('**원본 데이터:\\n', wine.isna().sum())"
   ]
  },
  {
   "cell_type": "code",
   "execution_count": 4,
   "metadata": {},
   "outputs": [
    {
     "name": "stdout",
     "output_type": "stream",
     "text": [
      "\n",
      "**결측치 생성 데이터:\n",
      " class                            0\n",
      "Alcohol                         20\n",
      "Malicacid                        0\n",
      "Ash                             18\n",
      "Alcalinity_of_ash                0\n",
      "Magnesium                        0\n",
      "Total_phenols                    0\n",
      "Flavanoids                       0\n",
      "Nonflavanoid_phenols             0\n",
      "Proanthocyanins                  0\n",
      "Color_intensity                  0\n",
      "Hue                              0\n",
      "0D280_0D315_of_diluted_wines     0\n",
      "Proline                          0\n",
      "dtype: int64\n"
     ]
    }
   ],
   "source": [
    "# 결측치가 없으므로 두 개의 컬럼(Alcohol, Ash)에 임의로 결측치를 입력함.\n",
    "# randint(최소, 최대, 개수)\n",
    "wine_m = wine.copy()\n",
    "\n",
    "for col in ['Alcohol', 'Ash'] : \n",
    "    for i in range(20) : \n",
    "        random_idx = np.random.randint(0, len(wine), 1)\n",
    "        wine_m.loc[random_idx, col] = np.nan\n",
    "\n",
    "print('\\n**결측치 생성 데이터:\\n', wine_m.isna().sum())"
   ]
  },
  {
   "cell_type": "code",
   "execution_count": 5,
   "metadata": {},
   "outputs": [],
   "source": [
    "# plotting 환경 설정\n",
    "plt.rcParams['figure.figsize'] = (5,5)\n",
    "plt.rcParams['font.family'] = 'AppleGothic'\n",
    "plt.rcParams['font.size'] = 12\n",
    "plt.rcParams['axes.unicode_minus'] = False\n",
    "\n",
    "fig, ax = plt.subplots(1, 2, figsize=(8,4))\n",
    "\n",
    "plt.show()"
   ]
  }
 ],
 "metadata": {
  "kernelspec": {
   "display_name": "base",
   "language": "python",
   "name": "python3"
  },
  "language_info": {
   "codemirror_mode": {
    "name": "ipython",
    "version": 3
   },
   "file_extension": ".py",
   "mimetype": "text/x-python",
   "name": "python",
   "nbconvert_exporter": "python",
   "pygments_lexer": "ipython3",
   "version": "3.9.13"
  },
  "orig_nbformat": 4
 },
 "nbformat": 4,
 "nbformat_minor": 2
}
