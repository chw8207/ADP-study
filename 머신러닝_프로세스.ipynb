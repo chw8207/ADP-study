{
  "nbformat": 4,
  "nbformat_minor": 0,
  "metadata": {
    "colab": {
      "provenance": [],
      "mount_file_id": "1ggYzL9c_a1q63WT1QA_TCQIWswLubCzn",
      "authorship_tag": "ABX9TyMCod7e0JRi5WRC5PjAmu7W",
      "include_colab_link": true
    },
    "kernelspec": {
      "name": "python3",
      "display_name": "Python 3"
    },
    "language_info": {
      "name": "python"
    },
    "accelerator": "GPU",
    "gpuClass": "standard"
  },
  "cells": [
    {
      "cell_type": "markdown",
      "metadata": {
        "id": "view-in-github",
        "colab_type": "text"
      },
      "source": [
        "<a href=\"https://colab.research.google.com/github/chw8207/ADP-study/blob/master/%EB%A8%B8%EC%8B%A0%EB%9F%AC%EB%8B%9D_%ED%94%84%EB%A1%9C%EC%84%B8%EC%8A%A4.ipynb\" target=\"_parent\"><img src=\"https://colab.research.google.com/assets/colab-badge.svg\" alt=\"Open In Colab\"/></a>"
      ]
    },
    {
      "cell_type": "markdown",
      "source": [
        "### 회귀분석 성능평가지표"
      ],
      "metadata": {
        "id": "EGNX-OOiTLN-"
      }
    },
    {
      "cell_type": "code",
      "source": [
        "# 1. MAE(Mean Absolute Error)\n",
        "# 정의 : 실제값과 예측값의 차이의 절댓값의 평균\n",
        "# 에러의 크기가 그대로 반영됨\n",
        "# 이상치에 영향을 받음\n",
        "# 사이킷런 API 호출\n",
        "from sklearn.metrics import mean_absolute_error\n",
        "mae = mean_absolute_error(y_test, y_pred)"
      ],
      "metadata": {
        "id": "wciypNj8TNlo"
      },
      "execution_count": null,
      "outputs": []
    },
    {
      "cell_type": "code",
      "source": [
        "# 2. MSE(Mean Squared Error)\n",
        "# 정의 : 실제값과 예측값의 차이의 제곱의 평균\n",
        "# 실제값과 예측값 차이의 면적 합\n",
        "# 특이값이 존재하면 수치가 증가함\n",
        "# 사이킷런 API 호출\n",
        "from sklearn.metrics import mean_squared_error\n",
        "mse = mean_square_error(y_test, y_pred)"
      ],
      "metadata": {
        "id": "UNZ0rbTkTonB"
      },
      "execution_count": null,
      "outputs": []
    },
    {
      "cell_type": "code",
      "source": [
        "# 3. RMSE(Root Mean Squared Error)\n",
        "# 정의 : 실제값과 예측값의 차이의 평균에 루트를 씌움\n",
        "# 에러에 제곱하면 에러가 클수록 가중치가 높게 반영됨\n",
        "# 이를 방지하기 위해 루트(root)를 씌움\n",
        "# 사이킷런 API 호출\n",
        "from sklearn.metrics import mean_squared_error\n",
        "import numpy as np\n",
        "mse = mean_squared_error(y_test, y_pred)\n",
        "# 루트 씌우기\n",
        "rmse = np.sqrt(mse)"
      ],
      "metadata": {
        "id": "1QCP5EHEUG1u"
      },
      "execution_count": null,
      "outputs": []
    },
    {
      "cell_type": "code",
      "source": [
        "# MSLE(Mean Squared Log Error)\n",
        "# 정의 : 실제값과 예측값의 차이의 제곱의 평균에 로그를 취한 것\n",
        "# 사이킷런 API 호출\n",
        "from sklearn.metrics import mean_squared_log_error\n",
        "msle = mean_squared_log_error(y_test, y_pred)"
      ],
      "metadata": {
        "id": "yfe8bB1YVYjk"
      },
      "execution_count": null,
      "outputs": []
    },
    {
      "cell_type": "code",
      "source": [
        "# MAPE(Mean Absolute Percentage Error)\n",
        "# 정의 : MAE를 퍼센트로 변환한 것\n",
        "# 오차가 예측값에서 차지하는 정도를 나타냄\n",
        "# 수식을 함수로 만들기\n",
        "import numpy as np\n",
        "def MAPE(y_test, y_pred) : \n",
        "  mape = np.mean(np.abs((y_test - y_pred) / y_test)) * 100\n",
        "  return mape\n",
        "mape = MAPE(y_test, y_pred)"
      ],
      "metadata": {
        "id": "IPBt4HEPWJ05"
      },
      "execution_count": null,
      "outputs": []
    },
    {
      "cell_type": "markdown",
      "source": [
        "### 분류분석 성능평가지표"
      ],
      "metadata": {
        "id": "vty48wMibIDQ"
      }
    },
    {
      "cell_type": "code",
      "source": [
        "# 1. 정확도(Accuracy)\n",
        "# 정의 : 실제 데이터에서 예측 데이터가 얼마나 같은지 판단하는 지표\n",
        "# 데이터 구성에 따라 머신러닝 모델의 성능을 왜곡할 가능성이 있음\n",
        "# 사이킷런 API 호출\n",
        "from sklearn.metrics import accuracy_score\n",
        "acc = accuracy_score(y_test, y_pred)"
      ],
      "metadata": {
        "id": "riLXJ8LKbMWg"
      },
      "execution_count": null,
      "outputs": []
    },
    {
      "cell_type": "code",
      "source": [
        "# 2. 혼동행렬(Contusion Matrix)\n",
        "# 정의 : 이진분류의 예측오류가 얼마이고, 어떠한 유형의 예측오류가 발생하고 있는지\n",
        "#        나타내는 지표\n",
        "# 정확도의 한계점을 보완하기 위해 사용됨.\n",
        "# 사이킷런 API 호출\n",
        "from sklearn.metrics import confusion_matrix\n",
        "cm = cofusion_matrix(y_test, y_pred)"
      ],
      "metadata": {
        "id": "j_ndevhrgL-3"
      },
      "execution_count": null,
      "outputs": []
    },
    {
      "cell_type": "code",
      "source": [
        "# 3. 정밀도(Precision)\n",
        "# 정의 : positive로 예측한 것들 중에서 실제로 positive인 것의 비율\n",
        "# 사이킷런 API 호출\n",
        "from sklearn.metrics import precision_score\n",
        "precision = precision_score(y_test, y_pred)"
      ],
      "metadata": {
        "id": "eMMiU6wfbGCH"
      },
      "execution_count": null,
      "outputs": []
    }
  ]
}