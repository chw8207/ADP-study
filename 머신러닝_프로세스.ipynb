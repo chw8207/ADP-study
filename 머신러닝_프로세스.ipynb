{
  "nbformat": 4,
  "nbformat_minor": 0,
  "metadata": {
    "colab": {
      "provenance": [],
      "mount_file_id": "1ggYzL9c_a1q63WT1QA_TCQIWswLubCzn",
      "authorship_tag": "ABX9TyO0CRv6LrR12GwXXKlJbt2G",
      "include_colab_link": true
    },
    "kernelspec": {
      "name": "python3",
      "display_name": "Python 3"
    },
    "language_info": {
      "name": "python"
    },
    "accelerator": "GPU",
    "gpuClass": "standard"
  },
  "cells": [
    {
      "cell_type": "markdown",
      "metadata": {
        "id": "view-in-github",
        "colab_type": "text"
      },
      "source": [
        "<a href=\"https://colab.research.google.com/github/chw8207/ADP-study/blob/master/%EB%A8%B8%EC%8B%A0%EB%9F%AC%EB%8B%9D_%ED%94%84%EB%A1%9C%EC%84%B8%EC%8A%A4.ipynb\" target=\"_parent\"><img src=\"https://colab.research.google.com/assets/colab-badge.svg\" alt=\"Open In Colab\"/></a>"
      ]
    },
    {
      "cell_type": "markdown",
      "source": [
        "### 회귀분석 성능평가지표"
      ],
      "metadata": {
        "id": "EGNX-OOiTLN-"
      }
    },
    {
      "cell_type": "code",
      "source": [
        "# 1. MAE(Mean Absolute Error)\n",
        "# 정의 : 실제값과 예측값의 차이의 절댓값의 평균\n",
        "# 에러의 크기가 그대로 반영됨\n",
        "# 이상치에 영향을 받음\n",
        "# 사이킷런 API 호출\n",
        "from sklearn.metrics import mean_absolute_error\n",
        "mae = mean_absolute_error(y_test, y_pred)"
      ],
      "metadata": {
        "id": "wciypNj8TNlo"
      },
      "execution_count": null,
      "outputs": []
    },
    {
      "cell_type": "code",
      "source": [
        "# 2. MSE(Mean Squared Error)\n",
        "# 정의 : 실제값과 예측값의 차이의 제곱의 평균\n",
        "# 실제값과 예측값 차이의 면적 합\n",
        "# 특이값이 존재하면 수치가 증가함\n",
        "# 사이킷런 API 호출\n",
        "from sklearn.metrics import mean_squared_error\n",
        "mse = mean_square_error(y_test, y_pred)"
      ],
      "metadata": {
        "id": "UNZ0rbTkTonB"
      },
      "execution_count": null,
      "outputs": []
    },
    {
      "cell_type": "code",
      "source": [
        "# 3. RMSE(Root Mean Squared Error)\n",
        "# 정의 : 실제값과 예측값의 차이의 평균에 루트를 씌움\n",
        "# 에러에 제곱하면 에러가 클수록 가중치가 높게 반영됨\n",
        "# 이를 방지하기 위해 루트(root)를 씌움\n",
        "# 사이킷런 API 호출\n",
        "from sklearn.metrics import mean_squared_error\n",
        "import numpy as np\n",
        "mse = mean_squared_error(y_test, y_pred)\n",
        "# 루트 씌우기\n",
        "rmse = np.sqrt(mse)"
      ],
      "metadata": {
        "id": "1QCP5EHEUG1u"
      },
      "execution_count": null,
      "outputs": []
    }
  ]
}