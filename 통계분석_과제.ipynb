{
 "cells": [
  {
   "cell_type": "markdown",
   "metadata": {},
   "source": [
    "# 통계분석 과제 \n",
    "## df_Xtrain= pd.read_csv('X_train.csv',encoding = 'cp949')\n",
    "## 1 . X_train 데이터에서 강남점과 일산점의 총구매액 평균의 차이를 검정하세요 (정규성은 만족한다고 가정) \n"
   ]
  },
  {
   "cell_type": "code",
   "execution_count": 1,
   "metadata": {
    "scrolled": true
   },
   "outputs": [
    {
     "data": {
      "text/html": [
       "<div>\n",
       "<style scoped>\n",
       "    .dataframe tbody tr th:only-of-type {\n",
       "        vertical-align: middle;\n",
       "    }\n",
       "\n",
       "    .dataframe tbody tr th {\n",
       "        vertical-align: top;\n",
       "    }\n",
       "\n",
       "    .dataframe thead th {\n",
       "        text-align: right;\n",
       "    }\n",
       "</style>\n",
       "<table border=\"1\" class=\"dataframe\">\n",
       "  <thead>\n",
       "    <tr style=\"text-align: right;\">\n",
       "      <th></th>\n",
       "      <th>cust_id</th>\n",
       "      <th>총구매액</th>\n",
       "      <th>최대구매액</th>\n",
       "      <th>환불금액</th>\n",
       "      <th>주구매상품</th>\n",
       "      <th>주구매지점</th>\n",
       "      <th>내점일수</th>\n",
       "      <th>내점당구매건수</th>\n",
       "      <th>주말방문비율</th>\n",
       "      <th>구매주기</th>\n",
       "    </tr>\n",
       "  </thead>\n",
       "  <tbody>\n",
       "    <tr>\n",
       "      <th>0</th>\n",
       "      <td>0</td>\n",
       "      <td>68282840</td>\n",
       "      <td>11264000</td>\n",
       "      <td>6860000.0</td>\n",
       "      <td>기타</td>\n",
       "      <td>강남점</td>\n",
       "      <td>19</td>\n",
       "      <td>3.894737</td>\n",
       "      <td>0.527027</td>\n",
       "      <td>17</td>\n",
       "    </tr>\n",
       "    <tr>\n",
       "      <th>1</th>\n",
       "      <td>1</td>\n",
       "      <td>2136000</td>\n",
       "      <td>2136000</td>\n",
       "      <td>300000.0</td>\n",
       "      <td>스포츠</td>\n",
       "      <td>잠실점</td>\n",
       "      <td>2</td>\n",
       "      <td>1.500000</td>\n",
       "      <td>0.000000</td>\n",
       "      <td>1</td>\n",
       "    </tr>\n",
       "    <tr>\n",
       "      <th>2</th>\n",
       "      <td>2</td>\n",
       "      <td>3197000</td>\n",
       "      <td>1639000</td>\n",
       "      <td>NaN</td>\n",
       "      <td>남성 캐주얼</td>\n",
       "      <td>관악점</td>\n",
       "      <td>2</td>\n",
       "      <td>2.000000</td>\n",
       "      <td>0.000000</td>\n",
       "      <td>1</td>\n",
       "    </tr>\n",
       "    <tr>\n",
       "      <th>3</th>\n",
       "      <td>3</td>\n",
       "      <td>16077620</td>\n",
       "      <td>4935000</td>\n",
       "      <td>NaN</td>\n",
       "      <td>기타</td>\n",
       "      <td>광주점</td>\n",
       "      <td>18</td>\n",
       "      <td>2.444444</td>\n",
       "      <td>0.318182</td>\n",
       "      <td>16</td>\n",
       "    </tr>\n",
       "    <tr>\n",
       "      <th>4</th>\n",
       "      <td>4</td>\n",
       "      <td>29050000</td>\n",
       "      <td>24000000</td>\n",
       "      <td>NaN</td>\n",
       "      <td>보석</td>\n",
       "      <td>본  점</td>\n",
       "      <td>2</td>\n",
       "      <td>1.500000</td>\n",
       "      <td>0.000000</td>\n",
       "      <td>85</td>\n",
       "    </tr>\n",
       "    <tr>\n",
       "      <th>...</th>\n",
       "      <td>...</td>\n",
       "      <td>...</td>\n",
       "      <td>...</td>\n",
       "      <td>...</td>\n",
       "      <td>...</td>\n",
       "      <td>...</td>\n",
       "      <td>...</td>\n",
       "      <td>...</td>\n",
       "      <td>...</td>\n",
       "      <td>...</td>\n",
       "    </tr>\n",
       "    <tr>\n",
       "      <th>3495</th>\n",
       "      <td>3495</td>\n",
       "      <td>3175200</td>\n",
       "      <td>3042900</td>\n",
       "      <td>NaN</td>\n",
       "      <td>골프</td>\n",
       "      <td>본  점</td>\n",
       "      <td>1</td>\n",
       "      <td>2.000000</td>\n",
       "      <td>1.000000</td>\n",
       "      <td>0</td>\n",
       "    </tr>\n",
       "    <tr>\n",
       "      <th>3496</th>\n",
       "      <td>3496</td>\n",
       "      <td>29628600</td>\n",
       "      <td>7200000</td>\n",
       "      <td>6049600.0</td>\n",
       "      <td>시티웨어</td>\n",
       "      <td>부산본점</td>\n",
       "      <td>8</td>\n",
       "      <td>1.625000</td>\n",
       "      <td>0.461538</td>\n",
       "      <td>40</td>\n",
       "    </tr>\n",
       "    <tr>\n",
       "      <th>3497</th>\n",
       "      <td>3497</td>\n",
       "      <td>75000</td>\n",
       "      <td>75000</td>\n",
       "      <td>NaN</td>\n",
       "      <td>주방용품</td>\n",
       "      <td>창원점</td>\n",
       "      <td>1</td>\n",
       "      <td>1.000000</td>\n",
       "      <td>0.000000</td>\n",
       "      <td>0</td>\n",
       "    </tr>\n",
       "    <tr>\n",
       "      <th>3498</th>\n",
       "      <td>3498</td>\n",
       "      <td>1875000</td>\n",
       "      <td>1000000</td>\n",
       "      <td>NaN</td>\n",
       "      <td>화장품</td>\n",
       "      <td>본  점</td>\n",
       "      <td>2</td>\n",
       "      <td>1.000000</td>\n",
       "      <td>0.000000</td>\n",
       "      <td>39</td>\n",
       "    </tr>\n",
       "    <tr>\n",
       "      <th>3499</th>\n",
       "      <td>3499</td>\n",
       "      <td>263101550</td>\n",
       "      <td>34632000</td>\n",
       "      <td>5973000.0</td>\n",
       "      <td>기타</td>\n",
       "      <td>본  점</td>\n",
       "      <td>38</td>\n",
       "      <td>2.421053</td>\n",
       "      <td>0.467391</td>\n",
       "      <td>8</td>\n",
       "    </tr>\n",
       "  </tbody>\n",
       "</table>\n",
       "<p>3500 rows × 10 columns</p>\n",
       "</div>"
      ],
      "text/plain": [
       "      cust_id       총구매액     최대구매액       환불금액   주구매상품 주구매지점  내점일수   내점당구매건수  \\\n",
       "0           0   68282840  11264000  6860000.0      기타   강남점    19  3.894737   \n",
       "1           1    2136000   2136000   300000.0     스포츠   잠실점     2  1.500000   \n",
       "2           2    3197000   1639000        NaN  남성 캐주얼   관악점     2  2.000000   \n",
       "3           3   16077620   4935000        NaN      기타   광주점    18  2.444444   \n",
       "4           4   29050000  24000000        NaN      보석  본  점     2  1.500000   \n",
       "...       ...        ...       ...        ...     ...   ...   ...       ...   \n",
       "3495     3495    3175200   3042900        NaN      골프  본  점     1  2.000000   \n",
       "3496     3496   29628600   7200000  6049600.0    시티웨어  부산본점     8  1.625000   \n",
       "3497     3497      75000     75000        NaN    주방용품   창원점     1  1.000000   \n",
       "3498     3498    1875000   1000000        NaN     화장품  본  점     2  1.000000   \n",
       "3499     3499  263101550  34632000  5973000.0      기타  본  점    38  2.421053   \n",
       "\n",
       "        주말방문비율  구매주기  \n",
       "0     0.527027    17  \n",
       "1     0.000000     1  \n",
       "2     0.000000     1  \n",
       "3     0.318182    16  \n",
       "4     0.000000    85  \n",
       "...        ...   ...  \n",
       "3495  1.000000     0  \n",
       "3496  0.461538    40  \n",
       "3497  0.000000     0  \n",
       "3498  0.000000    39  \n",
       "3499  0.467391     8  \n",
       "\n",
       "[3500 rows x 10 columns]"
      ]
     },
     "execution_count": 1,
     "metadata": {},
     "output_type": "execute_result"
    }
   ],
   "source": [
    "import pandas as pd \n",
    "df_Xtrain= pd.read_csv('./data/X_train.csv',encoding = 'cp949')\n",
    "df_Xtrain"
   ]
  },
  {
   "cell_type": "code",
   "execution_count": 4,
   "metadata": {},
   "outputs": [
    {
     "data": {
      "text/plain": [
       "본  점     1077\n",
       "잠실점       474\n",
       "분당점       436\n",
       "부산본점      245\n",
       "영등포점      241\n",
       "일산점       198\n",
       "강남점       145\n",
       "광주점       114\n",
       "노원점        90\n",
       "청량리점       86\n",
       "대전점        70\n",
       "미아점        69\n",
       "부평점        57\n",
       "동래점        49\n",
       "관악점        46\n",
       "인천점        34\n",
       "안양점        29\n",
       "포항점        11\n",
       "대구점         7\n",
       "센텀시티점       6\n",
       "울산점         6\n",
       "전주점         5\n",
       "창원점         4\n",
       "상인점         1\n",
       "Name: 주구매지점, dtype: int64"
      ]
     },
     "execution_count": 4,
     "metadata": {},
     "output_type": "execute_result"
    }
   ],
   "source": [
    "# 주구매지점 확인\n",
    "df_Xtrain['주구매지점'].value_counts()"
   ]
  },
  {
   "cell_type": "code",
   "execution_count": 5,
   "metadata": {},
   "outputs": [],
   "source": [
    "# 강남점, 일산점 추출하기\n",
    "df_gangnam = df_Xtrain.loc[df_Xtrain['주구매지점']=='강남점', '총구매액']\n",
    "df_ilsan = df_Xtrain.loc[df_Xtrain['주구매지점']=='일산점', '총구매액']"
   ]
  },
  {
   "cell_type": "code",
   "execution_count": 7,
   "metadata": {},
   "outputs": [
    {
     "data": {
      "text/plain": [
       "LeveneResult(statistic=4.984728737913695, pvalue=0.02622071970102609)"
      ]
     },
     "execution_count": 7,
     "metadata": {},
     "output_type": "execute_result"
    }
   ],
   "source": [
    "import scipy.stats as stats\n",
    "\n",
    "# 등분산성 검정하기\n",
    "# 귀무가설 : 등분산성을 만족한다.\n",
    "# 대립가설 : 등분산성을 만족하지 않는다.\n",
    "stats.levene(df_gangnam, df_ilsan)"
   ]
  },
  {
   "cell_type": "markdown",
   "metadata": {},
   "source": [
    "### 결과 해석\n",
    "__1.__ p-value값이 유의수준(0.05)보다 작으므로 귀무가설을 기각한다,\n",
    "- 등분산성을 만족하지 않는다."
   ]
  },
  {
   "cell_type": "code",
   "execution_count": 8,
   "metadata": {
    "scrolled": true
   },
   "outputs": [
    {
     "data": {
      "text/plain": [
       "Ttest_indResult(statistic=-2.0905294693218486, pvalue=0.03746469304567647)"
      ]
     },
     "execution_count": 8,
     "metadata": {},
     "output_type": "execute_result"
    }
   ],
   "source": [
    "# t-test실시하기\n",
    "stats.ttest_ind(df_gangnam, df_ilsan, equal_var=False)"
   ]
  },
  {
   "cell_type": "markdown",
   "metadata": {},
   "source": [
    "### 결과 해석\n",
    "__H0__ : 강남점과 일산점의 총구매액 평균의 차이는 없다(유의하지 않다)\n",
    "__Ha__ : 강잠점과 일산점의 총구매액 평균의 차이는 유의하다.\n",
    "__1.__ p-value값(0.037)이 유의수준(0.05)보다 작으므로 귀무가설을 기각한다.\n",
    "- 강남점과 일산점의 총구매액 평균 차이는 유의하다."
   ]
  },
  {
   "cell_type": "markdown",
   "metadata": {},
   "source": [
    "### 시각화"
   ]
  },
  {
   "cell_type": "code",
   "execution_count": null,
   "metadata": {},
   "outputs": [],
   "source": []
  },
  {
   "cell_type": "code",
   "execution_count": null,
   "metadata": {},
   "outputs": [],
   "source": []
  }
 ],
 "metadata": {
  "kernelspec": {
   "display_name": "Python 3 (ipykernel)",
   "language": "python",
   "name": "python3"
  },
  "language_info": {
   "codemirror_mode": {
    "name": "ipython",
    "version": 3
   },
   "file_extension": ".py",
   "mimetype": "text/x-python",
   "name": "python",
   "nbconvert_exporter": "python",
   "pygments_lexer": "ipython3",
   "version": "3.9.13"
  },
  "toc": {
   "base_numbering": 1,
   "nav_menu": {},
   "number_sections": true,
   "sideBar": true,
   "skip_h1_title": false,
   "title_cell": "Table of Contents",
   "title_sidebar": "Contents",
   "toc_cell": false,
   "toc_position": {},
   "toc_section_display": true,
   "toc_window_display": false
  }
 },
 "nbformat": 4,
 "nbformat_minor": 4
}
