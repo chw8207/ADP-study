{
 "cells": [
  {
   "cell_type": "code",
   "execution_count": 4,
   "metadata": {},
   "outputs": [],
   "source": [
    "import pandas as pd\n",
    "import numpy as np\n",
    "from scipy.stats import bernoulli, binom"
   ]
  },
  {
   "cell_type": "markdown",
   "metadata": {},
   "source": [
    "### 특수한 이산형 확률분포"
   ]
  },
  {
   "cell_type": "markdown",
   "metadata": {},
   "source": [
    "- 베르누이 분포"
   ]
  },
  {
   "cell_type": "code",
   "execution_count": 3,
   "metadata": {},
   "outputs": [
    {
     "name": "stdout",
     "output_type": "stream",
     "text": [
      "[수기] 해당 분포 기댓값은 0.300, 분산은 0.210\n",
      "[라이브러리] 해당 분포의 기댓값은 0.300 분산은 0.210\n"
     ]
    }
   ],
   "source": [
    "# 기댓값과 분산 계산하기\n",
    "p = 0.3\n",
    "q = 1-p\n",
    "E = p\n",
    "V = p*q # 분산\n",
    "print(f'[수기] 해당 분포 기댓값은 {E:.3f}, 분산은 {V:.3f}')\n",
    "\n",
    "E, V = bernoulli.stats(p)\n",
    "print(f'[라이브러리] 해당 분포의 기댓값은 {E:.3f} 분산은 {V:.3f}')"
   ]
  },
  {
   "cell_type": "markdown",
   "metadata": {},
   "source": [
    "- 이항분포"
   ]
  },
  {
   "cell_type": "code",
   "execution_count": 6,
   "metadata": {},
   "outputs": [
    {
     "name": "stdout",
     "output_type": "stream",
     "text": [
      "[수기] 해당 분포의 기댓값은 0.300 분산은 0.210\n"
     ]
    }
   ],
   "source": [
    "# combination 함수 정의하기\n",
    "fac = np.math.factorial\n",
    "def combi(a, b) : \n",
    "    result = fac(a)/fac(b)/fac(a-b)\n",
    "    return result\n",
    "\n",
    "# 근로자가 내년에 회사에서 일하지 않을 확률이 0.1이라고 추정한 경우,\n",
    "# 시간제 근로자 3명을 무작위로 뽑았을 때 그 중 한 명이 금년에 회사를 떠날 확률은?\n",
    "n = 3  # 샘플 개수\n",
    "x = 1  # 확률 변수(떠날 샘플 개수)\n",
    "p = 0.1\n",
    "\n",
    "# 기댓값과 분산 계산하기\n",
    "E = n*p\n",
    "v = n*p*(1-p)\n",
    "print(f'[수기] 해당 분포의 기댓값은 {E:.3f} 분산은 {V:.3f}')"
   ]
  }
 ],
 "metadata": {
  "kernelspec": {
   "display_name": "base",
   "language": "python",
   "name": "python3"
  },
  "language_info": {
   "codemirror_mode": {
    "name": "ipython",
    "version": 3
   },
   "file_extension": ".py",
   "mimetype": "text/x-python",
   "name": "python",
   "nbconvert_exporter": "python",
   "pygments_lexer": "ipython3",
   "version": "3.9.13"
  },
  "orig_nbformat": 4
 },
 "nbformat": 4,
 "nbformat_minor": 2
}
