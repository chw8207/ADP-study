{
 "cells": [
  {
   "cell_type": "code",
   "execution_count": 1,
   "metadata": {},
   "outputs": [],
   "source": [
    "import pandas as pd\n",
    "import numpy as np\n",
    "from scipy.stats import bernoulli, binom, norm, poisson,\\\n",
    "nbinom, geom, hypergeom, expon, gamma"
   ]
  },
  {
   "cell_type": "markdown",
   "metadata": {},
   "source": [
    "### 특수한 이산형 확률분포"
   ]
  },
  {
   "cell_type": "markdown",
   "metadata": {},
   "source": [
    "- 베르누이 분포"
   ]
  },
  {
   "cell_type": "code",
   "execution_count": 2,
   "metadata": {},
   "outputs": [
    {
     "name": "stdout",
     "output_type": "stream",
     "text": [
      "[수기] 해당 분포 기댓값은 0.300, 분산은 0.210\n",
      "[라이브러리] 해당 분포의 기댓값은 0.300 분산은 0.210\n"
     ]
    }
   ],
   "source": [
    "# 기댓값과 분산 계산하기\n",
    "p = 0.3\n",
    "q = 1-p\n",
    "E = p\n",
    "V = p*q # 분산\n",
    "print(f'[수기] 해당 분포 기댓값은 {E:.3f}, 분산은 {V:.3f}')\n",
    "\n",
    "E, V = bernoulli.stats(p)\n",
    "print(f'[라이브러리] 해당 분포의 기댓값은 {E:.3f} 분산은 {V:.3f}')"
   ]
  },
  {
   "cell_type": "markdown",
   "metadata": {},
   "source": [
    "- 이항분포"
   ]
  },
  {
   "cell_type": "code",
   "execution_count": 3,
   "metadata": {},
   "outputs": [
    {
     "name": "stdout",
     "output_type": "stream",
     "text": [
      "[수기] 해당 분포의 기댓값은 0.300 분산은 0.210\n",
      "[라이브러리] 해당 분포의 기댓값은 0.300 분산은 0.270 \n",
      "\n",
      "[수기] 해당 분포의 확률질량함수(pmf): 0.243\n",
      "[라이브러리] 해당 분포의 확률질량함수(pmf):  0.243 \n",
      "\n",
      "[수기] 해당 분포의 누적확률질량함수(cdf):  0.9720000000000001\n",
      "[라이브러리] 해당 분포의 누적확률질럄함수(cdf):  0.972\n"
     ]
    }
   ],
   "source": [
    "# combination 함수 정의하기\n",
    "fac = np.math.factorial\n",
    "def combi(a, b) : \n",
    "    result = fac(a)/fac(b)/fac(a-b)\n",
    "    return result\n",
    "\n",
    "# 근로자가 내년에 회사에서 일하지 않을 확률이 0.1이라고 추정한 경우,\n",
    "# 시간제 근로자 3명을 무작위로 뽑았을 때 그 중 한 명이 금년에 회사를 떠날 확률은?\n",
    "n = 3  # 샘플 개수\n",
    "x = 1  # 확률 변수(떠날 샘플 개수)\n",
    "p = 0.1\n",
    "\n",
    "# 기댓값과 분산 계산하기\n",
    "E = n*p\n",
    "v = n*p*(1-p)\n",
    "print(f'[수기] 해당 분포의 기댓값은 {E:.3f} 분산은 {V:.3f}')\n",
    "E2, V2 = binom.stats(n, p)\n",
    "print(f'[라이브러리] 해당 분포의 기댓값은 {E2:.3f} 분산은 {V2:.3f}', '\\n')\n",
    "\n",
    "# 확률질량함수 계산하기\n",
    "pmf = combi(n, x) * p**x * (1-p)**(n-x)\n",
    "print('[수기] 해당 분포의 확률질량함수(pmf): %.3f' % (pmf))\n",
    "print('[라이브러리] 해당 분포의 확률질량함수(pmf): ', binom.pmf(x, n, p), '\\n')\n",
    "\n",
    "# 누적확률질량함수 계산하기: 1명 이하로 떠날 확률은?\n",
    "cdf = 0\n",
    "for i in range(0, x+1) : \n",
    "    cdf += binom.pmf(i, n, p)\n",
    "print('[수기] 해당 분포의 누적확률질량함수(cdf): ', cdf)\n",
    "print('[라이브러리] 해당 분포의 누적확률질럄함수(cdf): ', binom.cdf(x, n, p))"
   ]
  },
  {
   "cell_type": "code",
   "execution_count": 4,
   "metadata": {},
   "outputs": [
    {
     "name": "stdout",
     "output_type": "stream",
     "text": [
      "이항분포로 계산하면 0.028 정규분포로 계산하면 0.028\n",
      "이항분포로 계산하면 0.017 포아송분포로 근사계산하면 0.018\n"
     ]
    }
   ],
   "source": [
    "# 이항분포의 정규분포 근사\n",
    "x = 10\n",
    "n = 30\n",
    "p = 0.5\n",
    "\n",
    "b_result = binom.pmf(x, n, p)\n",
    "E = n*p\n",
    "sigma = np.sqrt(E*(1-p))\n",
    "zstat1 = (x-0.5-E)/sigma # 이항분포의 x에서 -0.5\n",
    "zstat2 = (x+0.5-E)/sigma # 이항분포의 x에서 +0.5\n",
    "n_result = norm.cdf(zstat2) - norm.cdf(zstat1)\n",
    "\n",
    "print(f'이항분포로 계산하면 {b_result:.3f} 정규분포로 계산하면 {n_result:.3f}')\n",
    "\n",
    "# 이항분포의 포아송분포 근사\n",
    "x = 10\n",
    "n = 100\n",
    "p = 0.05\n",
    "E = n*p\n",
    "\n",
    "b_result = binom.pmf(x, n, p)\n",
    "p_result = poisson.pmf(x, E)\n",
    "print(f'이항분포로 계산하면 {b_result:.3f} 포아송분포로 근사계산하면 {p_result:.3f}')"
   ]
  },
  {
   "cell_type": "markdown",
   "metadata": {},
   "source": [
    "- 음이항분포"
   ]
  },
  {
   "cell_type": "code",
   "execution_count": 5,
   "metadata": {},
   "outputs": [
    {
     "name": "stdout",
     "output_type": "stream",
     "text": [
      "[수기] 해당 분포의 기댓값은 4.667 분산은 15.556\n",
      "[라이브러리] 해당 분포의 기댓값은 4.667 분산은 15.556\n",
      "[수기] 확률질량함수(pmf):  0.12347999999999996\n",
      "[라이브러리] 확률질량함수(pmf):  0.12348 \n",
      "\n",
      "[수기] 누적확률질량함수(cdf):  0.47177999999999987\n",
      "[라이브러리] 누적확률질량함수(cdf):  0.47178\n"
     ]
    }
   ],
   "source": [
    "# 음이항분포\n",
    "# A가 승리할 확률이 0.3이라면 5번째 경기에서 2번째로 이길 확률은?\n",
    "fac = np.math.factorial\n",
    "def combi(a, b) : \n",
    "    result = fac(a)/fac(b)/fac(a-b)\n",
    "    return result\n",
    "\n",
    "n = 5\n",
    "k = 2\n",
    "p = 0.3\n",
    "q = 1-p\n",
    "\n",
    "case = 2\n",
    "if case == 1 :# 확률변수 X가 k번 성공할 때까지의 시행횟수가 x인 경우\n",
    "    x = n\n",
    "    E = k/p\n",
    "    V = k*q/p**2\n",
    "    pmf = combi(x-1, k-1) * p**k * q**(x-k)\n",
    "    E2, V2 = np.nan, np.nan\n",
    "    pkg_pmf, pkg_cdf = np.nan, np.nan\n",
    "    cdf = 0\n",
    "    for i in range(k, x+1) : \n",
    "        cdf += combi(i-1, k-1) * p**k * q**(i-k)\n",
    "elif case == 2 : # 확률변수 X가 k번 성공할 때까지의 실패횟수 x인 경우\n",
    "    x = n-k\n",
    "    E = k*q / p\n",
    "    V = k*q / p**2\n",
    "    pmf = combi(x+k-1, k-1) * p**k * q**x\n",
    "    E2, V2 = nbinom.stats(k, p)\n",
    "    pkg_pmf, pkg_cdf = nbinom.pmf(x, k, p), nbinom.cdf(x, k, p)\n",
    "    cdf = 0\n",
    "    for i in range(0, x+1) : \n",
    "        cdf += nbinom.pmf(i, k, p)\n",
    "\n",
    "# 기댓값과 분산 계산하기\n",
    "print(f'[수기] 해당 분포의 기댓값은 {E:.3f} 분산은 {V:.3f}')\n",
    "print(f'[라이브러리] 해당 분포의 기댓값은 {E2:.3f} 분산은 {V2:.3f}')\n",
    "\n",
    "# 확률질량함수 계산하기\n",
    "print('[수기] 확률질량함수(pmf): ', pmf)\n",
    "print('[라이브러리] 확률질량함수(pmf): ', pkg_pmf, '\\n')\n",
    "\n",
    "# 누적확률질량함수 계산하기: 2번째 이하로 이길 확률은?\n",
    "print('[수기] 누적확률질량함수(cdf): ', cdf)\n",
    "print('[라이브러리] 누적확률질량함수(cdf): ', pkg_cdf)"
   ]
  },
  {
   "cell_type": "markdown",
   "metadata": {},
   "source": [
    "-  기하분포"
   ]
  },
  {
   "cell_type": "code",
   "execution_count": 6,
   "metadata": {},
   "outputs": [
    {
     "name": "stdout",
     "output_type": "stream",
     "text": [
      "[수기] 해당 분포의 기댓값은 6.000 분산은 30.000\n",
      "[라이브러리] 해당 분포의 기댓값은 6.000 분산은 30.000 \n",
      "\n",
      "[수기] 확률질량함수(pmf):  0.11574074074074076\n",
      "[라이브러리] 확률질량함수(pmf):  0.11574074074074076 \n",
      "\n",
      "[수기] 누적확률질량함수(cdf):  0.42129629629629634\n",
      "[라이브러리] 누적확률질량함수(cdf):  0.4212962962962962\n"
     ]
    }
   ],
   "source": [
    "# 하나의 주사위를 세 번 던질 때 세 번째 시행에서 앞면 숫자가 6이 나올 확률?\n",
    "n = 3\n",
    "p = 1/6\n",
    "q = 1-p\n",
    "\n",
    "case = 1\n",
    "if case == 1 : # 확률변수 X가 처음으로 성공할 때까지의 시행횟수 x인 경우\n",
    "    x = n\n",
    "    E = 1/p\n",
    "    V = q/p**2\n",
    "    pmf = q**(x-1)*p\n",
    "    E2, V2 = geom.stats(p, moments='mv') # mean, variance\n",
    "    pkg_pmf, pkg_cdf = geom.pmf(x, p), geom.cdf(x, p)\n",
    "    cdf = 0\n",
    "    for i in range(1, x+1) : \n",
    "        cdf += q**(i-1)*p\n",
    "elif case == 2 : # 확률변수 X가 처음으로 성공할 때까지의 실패횟수 x인 경우\n",
    "    x = n-1\n",
    "    E = q/p\n",
    "    V = q/p**2\n",
    "    E2, V2 = np.nan, np.nan\n",
    "    pmf = q**x * p\n",
    "    pkg_pmf, pkg_cdf = np.nan, np.nan\n",
    "    cdf = 0\n",
    "    for i in range(0, x+1) : \n",
    "        cdf += q**i * p \n",
    "\n",
    "# 기댓값과 분산 계산하기\n",
    "print(f'[수기] 해당 분포의 기댓값은 {E:.3f} 분산은 {V:.3f}')\n",
    "print(f'[라이브러리] 해당 분포의 기댓값은 {E2:.3f} 분산은 {V2:.3f}', '\\n')\n",
    "\n",
    "# 확률질량함수 계산하기\n",
    "print('[수기] 확률질량함수(pmf): ', pmf)\n",
    "print('[라이브러리] 확률질량함수(pmf): ', pkg_pmf, '\\n')\n",
    "\n",
    "# 누적확률질량함수 계산하기: 2번째 이하로 이길 확률은?\n",
    "print('[수기] 누적확률질량함수(cdf): ', cdf)\n",
    "print('[라이브러리] 누적확률질량함수(cdf): ', pkg_cdf)"
   ]
  },
  {
   "cell_type": "markdown",
   "metadata": {},
   "source": [
    "- 초기하분포"
   ]
  },
  {
   "cell_type": "code",
   "execution_count": 7,
   "metadata": {},
   "outputs": [
    {
     "name": "stdout",
     "output_type": "stream",
     "text": [
      "[수기] 해당 분포의 기댓값은 0.200 분산은 0.178\n",
      "[라이브러리] 해당 분포의 기댓값은 0.200 분산은 0.178 \n",
      "\n",
      "[수기] 해당 분포의 확률질량함수(pmf): 0.182\n",
      "[라이브러리] 해당 분포의 확률질량함수(pmf): 0.182 \n",
      "\n",
      "[수기] 해당 분포의 누적확률질량함수(cdf): 0.991\n",
      "[라이브러리] 해당 분포의 누적확률질량함수(cdf): 0.991\n"
     ]
    }
   ],
   "source": [
    "# combination 함수 정의\n",
    "fac = np.math.factorial\n",
    "def combi(a, b) : \n",
    "    result = fac(a)/fac(b)/fac(a-b)\n",
    "    return result\n",
    "\n",
    "# 상자 속에 빨간 공이 90개, 파란 공이 10개 들어 있다. 임의로 1개씩 두 번 꺼내고\n",
    "# 다시 넣지 않을 때 1개가 파란 공이 될 확률은?\n",
    "N = 100\n",
    "k = 10   # 성공요소(총 파란공) 개수\n",
    "n = 2\n",
    "x = 1    # 확인하고자 하는 사건(파란공 1개)-확률변수\n",
    "p = k/N  # 모비율\n",
    "\n",
    "# 기댓값과 분산 계산하기\n",
    "E = n*p\n",
    "V = n*p*(1-p)*((N-n)/(N-1))\n",
    "print(f'[수기] 해당 분포의 기댓값은 {E:.3f} 분산은 {V:.3f}')\n",
    "E2, V2 = hypergeom.stats(N, k, n)\n",
    "print(f'[라이브러리] 해당 분포의 기댓값은 {E2:.3f} 분산은 {V2:.3f}', '\\n')\n",
    "\n",
    "# 확률질량함수 계산하기\n",
    "pmf = combi(k,x) * combi(N-k, n-x)/combi(N,n)\n",
    "print('[수기] 해당 분포의 확률질량함수(pmf): %.3f' % (pmf))\n",
    "print('[라이브러리] 해당 분포의 확률질량함수(pmf): %.3f' % (hypergeom.pmf(x,N,k,n)), '\\n')\n",
    "\n",
    "# 누적확률질량함수 계산하기: 파란공을 1개 이하로 선택할 확률?\n",
    "cdf = 0\n",
    "for i in range(0, x+1) : \n",
    "    cdf += hypergeom.pmf(i, N, k, n)\n",
    "print('[수기] 해당 분포의 누적확률질량함수(cdf): %.3f' % cdf)\n",
    "print('[라이브러리] 해당 분포의 누적확률질량함수(cdf): %.3f' % (hypergeom.cdf(x,N,k,n)))"
   ]
  },
  {
   "cell_type": "code",
   "execution_count": 8,
   "metadata": {},
   "outputs": [
    {
     "name": "stdout",
     "output_type": "stream",
     "text": [
      "초기하분포로 계산하면 0.182 이항분포로 근사계산하면 0.180\n"
     ]
    }
   ],
   "source": [
    "# 초기하 분포의 이항분포 근사\n",
    "b_result = binom.pmf(x, n, k/N)\n",
    "h_result = hypergeom.pmf(x, N, k, n)\n",
    "print(f'초기하분포로 계산하면 {h_result:.3f} 이항분포로 근사계산하면 {b_result:.3f}')"
   ]
  },
  {
   "cell_type": "markdown",
   "metadata": {},
   "source": [
    "- 포아송 분포"
   ]
  },
  {
   "cell_type": "code",
   "execution_count": 9,
   "metadata": {},
   "outputs": [
    {
     "name": "stdout",
     "output_type": "stream",
     "text": [
      "[수기] 해당 분포의 기댓값은 3.000 분산은 3.000\n",
      "[라이브러리] 해당 분포의 기댓값은 3.000 분산은 3.000 \n",
      "\n",
      "[수기] 해당 분포의 확률질량함수(pmf): 0.168\n",
      "[라이브러리] 해당 분포의 확률질량함수(pmf): 0.168 \n",
      "\n",
      "[수기] 해당 분포의 누적확률질량함수(cdf): 0.815\n",
      "[라이브러리] 해당 분포의 누적확률질량함수(cdf): 0.815\n"
     ]
    }
   ],
   "source": [
    "# 주말 저녁 시간 당 평균 6명이 응급실에 올 경우,\n",
    "# 어떤 주말 저녁 30분 내 4명이 도착할 확률은?\n",
    "x = 4    # 구간 내 사건 횟수(확률변수)\n",
    "lam = 3  # 구간 내 평균\n",
    "\n",
    "# 기댓값과 분산 계산하기\n",
    "E = lam\n",
    "V = lam\n",
    "print(f'[수기] 해당 분포의 기댓값은 {E:.3f} 분산은 {V:.3f}')\n",
    "E2, V2 = poisson.stats(lam, moments='mv')\n",
    "print(f'[라이브러리] 해당 분포의 기댓값은 {E2:.3f} 분산은 {V2:.3f}', '\\n')\n",
    "\n",
    "# 확률질량함수 계산하기\n",
    "pmf = lam**x * np.exp(-lam) / np.math.factorial(x)\n",
    "print('[수기] 해당 분포의 확률질량함수(pmf): %.3f' % (pmf))\n",
    "print('[라이브러리] 해당 분포의 확률질량함수(pmf): %.3f' % (poisson.pmf(x, lam)), '\\n')\n",
    "\n",
    "# 누적확률질량함수 계산하기: 4명 이하로 도착할 확률은?\n",
    "cdf = 0\n",
    "for i in range(0, x+1) : \n",
    "    cdf += poisson.pmf(i, lam)\n",
    "print('[수기] 해당 분포의 누적확률질량함수(cdf): %.3f' % cdf)\n",
    "print('[라이브러리] 해당 분포의 누적확률질량함수(cdf): %.3f' % (poisson.cdf(x, lam)))"
   ]
  },
  {
   "cell_type": "code",
   "execution_count": 10,
   "metadata": {},
   "outputs": [
    {
     "name": "stdout",
     "output_type": "stream",
     "text": [
      "포아송 분포로 계산하면 0.006 정규분포로 계산하면 0.007\n"
     ]
    }
   ],
   "source": [
    "# 포아송 분포의 정규분포 근사\n",
    "x = 10\n",
    "lam = 20\n",
    "E = V = lam\n",
    "\n",
    "sigma = np.sqrt(V)\n",
    "zstat1 = (x-0.5-lam)/sigma\n",
    "zstat2 = (x+0.5-lam)/sigma\n",
    "n_result = norm.cdf(zstat2) - norm.cdf(zstat1)\n",
    "p_result = poisson.pmf(x, lam)\n",
    "\n",
    "print(f'포아송 분포로 계산하면 {p_result:.3f} 정규분포로 계산하면 {n_result:.3f}')"
   ]
  },
  {
   "cell_type": "markdown",
   "metadata": {},
   "source": [
    "### 특수한 연속형 확률분포"
   ]
  },
  {
   "cell_type": "markdown",
   "metadata": {},
   "source": [
    "- 균일 분포"
   ]
  },
  {
   "cell_type": "code",
   "execution_count": 11,
   "metadata": {},
   "outputs": [
    {
     "name": "stdout",
     "output_type": "stream",
     "text": [
      "[수기] 범위 내 누적확률은 0.300\n",
      "[수기] 해당 분포의 기대값은 10.000 분산은 8.333 \n",
      "\n",
      "[수기] 범위 내 누적확률은 0.333\n",
      "[수기] 해당 분포의 기댓값은 15.000 분산은 75.000\n"
     ]
    }
   ],
   "source": [
    "# 확률변수 X가 (5, 15)에서 균일분포를 따를 때 12와 15 사이의 확률은?\n",
    "a = 5\n",
    "b = 15\n",
    "range_ = [(12, 15)]\n",
    "p = 1 / (b-a)\n",
    "cdf = 0\n",
    "for (x1, x2) in range_ : \n",
    "    cdf += (x2-x1) * p  # 누적분포함수\n",
    "\n",
    "E = (a+b)/2\n",
    "V = (b-a)**2 / 12\n",
    "print(f'[수기] 범위 내 누적확률은 {cdf:.3f}')\n",
    "print(f'[수기] 해당 분포의 기대값은 {E:.3f} 분산은 {V:.3f}', '\\n')\n",
    "\n",
    "# 버스가 오전 7시부터 115분 간격으로 정류장을 출발한다. 한 승객이 이 정류장에\n",
    "# 도착하는 시간은 7시에서 7시 30분 사이에 균등분포를 따른다고 할 때 이 승객이 버스를\n",
    "# 5분 미만 기다릴 확률은?\n",
    "a = 0\n",
    "b = 30\n",
    "\n",
    "# 승객이 버스를 5분 미만으로 기다리는 구간\n",
    "# 7시 10분~15분, 7시 25분~30분\n",
    "range_ = [(10,15), (25,30)]  # 구할 범위\n",
    "p = 1/(b-a)\n",
    "cdf = 0\n",
    "for (x1,x2) in range_ : \n",
    "    cdf += (x2-x1) * p\n",
    "\n",
    "E = (a+b)/2\n",
    "V = (b-a)**2 / 12\n",
    "\n",
    "print(f'[수기] 범위 내 누적확률은 {cdf:.3f}')\n",
    "print(f'[수기] 해당 분포의 기댓값은 {E:.3f} 분산은 {V:.3f}')"
   ]
  },
  {
   "cell_type": "markdown",
   "metadata": {},
   "source": [
    "- 정규분포"
   ]
  },
  {
   "cell_type": "code",
   "execution_count": 12,
   "metadata": {},
   "outputs": [
    {
     "name": "stdout",
     "output_type": "stream",
     "text": [
      "[라이브러리] 범위 내 누적롹률은 0.669\n",
      "[라이브러리] 해당 분포의 기댓값은30.000 분산은 64.000 \n",
      "\n"
     ]
    }
   ],
   "source": [
    "# 확률변수 X가 정규분포 N(30, 64)를 따를 때 26~46 구간의 확률은?\n",
    "E = 30\n",
    "V = 64\n",
    "S = np.sqrt(V)\n",
    "x1 = 26\n",
    "x2 = 46\n",
    "zstat1 = (x1-E)/S  # 표준화\n",
    "zstat2 = (x2-E)/S  # 표준화\n",
    "cdf = norm.cdf(zstat2) - norm.cdf(zstat1)\n",
    "\n",
    "print(f'[라이브러리] 범위 내 누적롹률은 {cdf:.3f}')\n",
    "print(f'[라이브러리] 해당 분포의 기댓값은{E:.3f} 분산은 {V:.3f}', '\\n')"
   ]
  },
  {
   "cell_type": "markdown",
   "metadata": {},
   "source": [
    "- 지수분포"
   ]
  },
  {
   "cell_type": "code",
   "execution_count": 13,
   "metadata": {},
   "outputs": [
    {
     "name": "stdout",
     "output_type": "stream",
     "text": [
      "[라이브러리] 누적확률은 0.487\n",
      "[라이브러리] 해당 분포의 기댓값은 3.000 분산은 9.000\n"
     ]
    }
   ],
   "source": [
    "# 자동차들 사이 시간 간격이 평균 3분인 지수확률 분포를 따르는 경우\n",
    "# 연속한 두 대의 차량이 도착하는 시간이  2분 이내일 확률은?\n",
    "lam = 1/3  # 3분 동안 1건, 1분 동안 1/3건\n",
    "x = 2      # 사건이 일어날 때까지 걸린 시간\n",
    "\n",
    "E = 1/lam\n",
    "V = 1/(lam**2)\n",
    "# scale에 1/lam을 입력해야 함.\n",
    "cdf = expon.cdf(x, scale = 1/lam)\n",
    "\n",
    "print(f'[라이브러리] 누적확률은 {cdf:.3f}')\n",
    "print(f'[라이브러리] 해당 분포의 기댓값은 {E:.3f} 분산은 {V:.3f}')"
   ]
  },
  {
   "cell_type": "markdown",
   "metadata": {},
   "source": [
    "- 감마분포: 지수분포의 일반화된 형태"
   ]
  },
  {
   "cell_type": "code",
   "execution_count": 14,
   "metadata": {},
   "outputs": [
    {
     "name": "stdout",
     "output_type": "stream",
     "text": [
      "[라이브러리] 누적확률은 0.391\n",
      "[라이브러리] 해당 분포의 기댓값은 2.000 분산은 1.000\n"
     ]
    }
   ],
   "source": [
    "# 낚시를 하는 데 어부가 물고기를 30분에 한 마리씩 잡는다. 어부가 4마리의 물고기를 \n",
    "# 잡을 때까지 걸리는 시간이 2시간에서 4시간 사이로 소요될 확률은?\n",
    "lam = 2   # lamda: 30분에 한 마리 = 1시간에 두 마리\n",
    "beta = 1/lam\n",
    "alpha = 4 # 4마리 물고기\n",
    "E = alpha * beta\n",
    "V = alpha * (beta**2)\n",
    "range_ = (2, 4)\n",
    "# scale에 beta를 입력해야 함.\n",
    "cdf = gamma.cdf(range_[1], alpha, scale=beta) - gamma.cdf(range_[0], alpha, scale=beta)\n",
    "print(f'[라이브러리] 누적확률은 {cdf:.3f}')\n",
    "print(f'[라이브러리] 해당 분포의 기댓값은 {E:.3f} 분산은 {V:.3f}')"
   ]
  },
  {
   "cell_type": "code",
   "execution_count": 15,
   "metadata": {},
   "outputs": [
    {
     "name": "stdout",
     "output_type": "stream",
     "text": [
      "[라이브러리] 누적확률은 0.820\n",
      "[라이브러리] 해당 분포의 기댓값은 12.500 분산은 7.812\n"
     ]
    }
   ],
   "source": [
    "'''\n",
    "배송 시간이 alpha = 20, lambda = 1.6인 감마분포를 따를 때, \n",
    "20개 철판을 배송할 때 걸리는 시간이 15분 이내일 확률은? \n",
    "'''\n",
    "lam = 1.6\n",
    "beta = 1 / lam\n",
    "alpha = 20\n",
    "E = alpha * beta\n",
    "V = alpha * (beta**2)\n",
    "range_ = (0, 15)\n",
    "# scale에 beta를 입력해야 함.\n",
    "cdf = gamma.cdf(range_[1], alpha, scale=beta) - gamma.cdf(range_[0], alpha, scale=beta)\n",
    "\n",
    "print(f'[라이브러리] 누적확률은 {cdf:.3f}')\n",
    "print(f'[라이브러리] 해당 분포의 기댓값은 {E:.3f} 분산은 {V:.3f}')"
   ]
  }
 ],
 "metadata": {
  "kernelspec": {
   "display_name": "base",
   "language": "python",
   "name": "python3"
  },
  "language_info": {
   "codemirror_mode": {
    "name": "ipython",
    "version": 3
   },
   "file_extension": ".py",
   "mimetype": "text/x-python",
   "name": "python",
   "nbconvert_exporter": "python",
   "pygments_lexer": "ipython3",
   "version": "3.9.13"
  },
  "orig_nbformat": 4
 },
 "nbformat": 4,
 "nbformat_minor": 2
}
