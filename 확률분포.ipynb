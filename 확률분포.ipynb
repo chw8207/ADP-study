{
 "cells": [
  {
   "cell_type": "code",
   "execution_count": 21,
   "metadata": {},
   "outputs": [],
   "source": [
    "import pandas as pd\n",
    "import numpy as np\n",
    "from scipy.stats import bernoulli, binom, norm, poisson,\\\n",
    "nbinom, geom"
   ]
  },
  {
   "cell_type": "markdown",
   "metadata": {},
   "source": [
    "### 특수한 이산형 확률분포"
   ]
  },
  {
   "cell_type": "markdown",
   "metadata": {},
   "source": [
    "- 베르누이 분포"
   ]
  },
  {
   "cell_type": "code",
   "execution_count": 3,
   "metadata": {},
   "outputs": [
    {
     "name": "stdout",
     "output_type": "stream",
     "text": [
      "[수기] 해당 분포 기댓값은 0.300, 분산은 0.210\n",
      "[라이브러리] 해당 분포의 기댓값은 0.300 분산은 0.210\n"
     ]
    }
   ],
   "source": [
    "# 기댓값과 분산 계산하기\n",
    "p = 0.3\n",
    "q = 1-p\n",
    "E = p\n",
    "V = p*q # 분산\n",
    "print(f'[수기] 해당 분포 기댓값은 {E:.3f}, 분산은 {V:.3f}')\n",
    "\n",
    "E, V = bernoulli.stats(p)\n",
    "print(f'[라이브러리] 해당 분포의 기댓값은 {E:.3f} 분산은 {V:.3f}')"
   ]
  },
  {
   "cell_type": "markdown",
   "metadata": {},
   "source": [
    "- 이항분포"
   ]
  },
  {
   "cell_type": "code",
   "execution_count": 10,
   "metadata": {},
   "outputs": [
    {
     "name": "stdout",
     "output_type": "stream",
     "text": [
      "[수기] 해당 분포의 기댓값은 0.300 분산은 0.210\n",
      "[라이브러리] 해당 분포의 기댓값은 0.300 분산은 0.270 \n",
      "\n",
      "[수기] 해당 분포의 확률질량함수(pmf): 0.243\n",
      "[라이브러리] 해당 분포의 확률질량함수(pmf):  0.243 \n",
      "\n",
      "[수기] 해당 분포의 누적확률질량함수(cdf):  0.9720000000000001\n",
      "[라이브러리] 해당 분포의 누적확률질럄함수(cdf):  0.972\n"
     ]
    }
   ],
   "source": [
    "# combination 함수 정의하기\n",
    "fac = np.math.factorial\n",
    "def combi(a, b) : \n",
    "    result = fac(a)/fac(b)/fac(a-b)\n",
    "    return result\n",
    "\n",
    "# 근로자가 내년에 회사에서 일하지 않을 확률이 0.1이라고 추정한 경우,\n",
    "# 시간제 근로자 3명을 무작위로 뽑았을 때 그 중 한 명이 금년에 회사를 떠날 확률은?\n",
    "n = 3  # 샘플 개수\n",
    "x = 1  # 확률 변수(떠날 샘플 개수)\n",
    "p = 0.1\n",
    "\n",
    "# 기댓값과 분산 계산하기\n",
    "E = n*p\n",
    "v = n*p*(1-p)\n",
    "print(f'[수기] 해당 분포의 기댓값은 {E:.3f} 분산은 {V:.3f}')\n",
    "E2, V2 = binom.stats(n, p)\n",
    "print(f'[라이브러리] 해당 분포의 기댓값은 {E2:.3f} 분산은 {V2:.3f}', '\\n')\n",
    "\n",
    "# 확률질량함수 계산하기\n",
    "pmf = combi(n, x) * p**x * (1-p)**(n-x)\n",
    "print('[수기] 해당 분포의 확률질량함수(pmf): %.3f' % (pmf))\n",
    "print('[라이브러리] 해당 분포의 확률질량함수(pmf): ', binom.pmf(x, n, p), '\\n')\n",
    "\n",
    "# 누적확률질량함수 계산하기: 1명 이하로 떠날 확률은?\n",
    "cdf = 0\n",
    "for i in range(0, x+1) : \n",
    "    cdf += binom.pmf(i, n, p)\n",
    "print('[수기] 해당 분포의 누적확률질량함수(cdf): ', cdf)\n",
    "print('[라이브러리] 해당 분포의 누적확률질럄함수(cdf): ', binom.cdf(x, n, p))"
   ]
  },
  {
   "cell_type": "code",
   "execution_count": 14,
   "metadata": {},
   "outputs": [
    {
     "name": "stdout",
     "output_type": "stream",
     "text": [
      "이항분포로 계산하면 0.028 정규분포로 계산하면 0.028\n",
      "이항분포로 계산하면 0.017 포아송분포로 근사계산하면 0.018\n"
     ]
    }
   ],
   "source": [
    "# 이항분포의 정규분포 근사\n",
    "x = 10\n",
    "n = 30\n",
    "p = 0.5\n",
    "\n",
    "b_result = binom.pmf(x, n, p)\n",
    "E = n*p\n",
    "sigma = np.sqrt(E*(1-p))\n",
    "zstat1 = (x-0.5-E)/sigma # 이항분포의 x에서 -0.5\n",
    "zstat2 = (x+0.5-E)/sigma # 이항분포의 x에서 +0.5\n",
    "n_result = norm.cdf(zstat2) - norm.cdf(zstat1)\n",
    "\n",
    "print(f'이항분포로 계산하면 {b_result:.3f} 정규분포로 계산하면 {n_result:.3f}')\n",
    "\n",
    "# 이항분포의 포아송분포 근사\n",
    "x = 10\n",
    "n = 100\n",
    "p = 0.05\n",
    "E = n*p\n",
    "\n",
    "b_result = binom.pmf(x, n, p)\n",
    "p_result = poisson.pmf(x, E)\n",
    "print(f'이항분포로 계산하면 {b_result:.3f} 포아송분포로 근사계산하면 {p_result:.3f}')"
   ]
  },
  {
   "cell_type": "markdown",
   "metadata": {},
   "source": [
    "- 음이항분포"
   ]
  },
  {
   "cell_type": "code",
   "execution_count": 20,
   "metadata": {},
   "outputs": [
    {
     "name": "stdout",
     "output_type": "stream",
     "text": [
      "[수기] 해당 분포의 기댓값은 4.667 분산은 15.556\n",
      "[라이브러리] 해당 분포의 기댓값은 4.667 분산은 15.556\n",
      "[수기] 확률질량함수(pmf):  0.12347999999999996\n",
      "[라이브러리] 확률질량함수(pmf):  0.12348 \n",
      "\n",
      "[수기] 누적확률질량함수(cdf):  0.47177999999999987\n",
      "[라이브러리] 누적확률질량함수(cdf):  0.47178\n"
     ]
    }
   ],
   "source": [
    "# 음이항분포\n",
    "# A가 승리할 확률이 0.3이라면 5번째 경기에서 2번째로 이길 확률은?\n",
    "fac = np.math.factorial\n",
    "def combi(a, b) : \n",
    "    result = fac(a)/fac(b)/fac(a-b)\n",
    "    return result\n",
    "\n",
    "n = 5\n",
    "k = 2\n",
    "p = 0.3\n",
    "q = 1-p\n",
    "\n",
    "case = 2\n",
    "if case == 1 :# 확률변수 X가 k번 성공할 때까지의 시행횟수가 x인 경우\n",
    "    x = n\n",
    "    E = k/p\n",
    "    V = k*q/p**2\n",
    "    pmf = combi(x-1, k-1) * p**k * q**(x-k)\n",
    "    E2, V2 = np.nan, np.nan\n",
    "    pkg_pmf, pkg_cdf = np.nan, np.nan\n",
    "    cdf = 0\n",
    "    for i in range(k, x+1) : \n",
    "        cdf += combi(i-1, k-1) * p**k * q**(i-k)\n",
    "elif case == 2 : # 확률변수 X가 k번 성공할 때까지의 실패횟수 x인 경우\n",
    "    x = n-k\n",
    "    E = k*q / p\n",
    "    V = k*q / p**2\n",
    "    pmf = combi(x+k-1, k-1) * p**k * q**x\n",
    "    E2, V2 = nbinom.stats(k, p)\n",
    "    pkg_pmf, pkg_cdf = nbinom.pmf(x, k, p), nbinom.cdf(x, k, p)\n",
    "    cdf = 0\n",
    "    for i in range(0, x+1) : \n",
    "        cdf += nbinom.pmf(i, k, p)\n",
    "\n",
    "# 기댓값과 분산 계산하기\n",
    "print(f'[수기] 해당 분포의 기댓값은 {E:.3f} 분산은 {V:.3f}')\n",
    "print(f'[라이브러리] 해당 분포의 기댓값은 {E2:.3f} 분산은 {V2:.3f}')\n",
    "\n",
    "# 확률질량함수 계산하기\n",
    "print('[수기] 확률질량함수(pmf): ', pmf)\n",
    "print('[라이브러리] 확률질량함수(pmf): ', pkg_pmf, '\\n')\n",
    "\n",
    "# 누적확률질량함수 계산하기: 2번째 이하로 이길 확률은?\n",
    "print('[수기] 누적확률질량함수(cdf): ', cdf)\n",
    "print('[라이브러리] 누적확률질량함수(cdf): ', pkg_cdf)"
   ]
  },
  {
   "cell_type": "markdown",
   "metadata": {},
   "source": [
    "-  기하분포"
   ]
  },
  {
   "cell_type": "code",
   "execution_count": 22,
   "metadata": {},
   "outputs": [],
   "source": [
    "# 하나의 주사위를 세 번 던질 때 세 번째 시행에서 앞면 숫자가 6이 나올 확률?\n",
    "n = 3\n",
    "p = 1/6\n",
    "q = 1-p\n",
    "\n",
    "case = 1\n",
    "if case == 1 : # 확률변수 X가 처음으로 성공할 때까지의 시행횟수 x인 경우\n",
    "    x = n\n",
    "    E = 1/p\n",
    "    V = q/p**2\n",
    "    pmf = q**(x-1)*p\n",
    "    E2, V2 = geom.stats(p, moments='mv') # mean, variance\n",
    "    pkg_pmf, pkg_cdf = geom.pmf(x, p), geom.cdf(x, p)\n",
    "    cdf = 0\n",
    "    for i in range(1, x+1) : \n",
    "        cdf += q**(i-1)*p\n",
    "elif case == 2 : # 확률변수 X가 처음으로 성공할 때까지의 실패횟수 x인 경우\n",
    "    x = n-1\n",
    "    E = q/p\n",
    "    V = q/p**2\n",
    "    E2, V2 = np.nan, np.nan\n",
    "    pmf = q**x * p\n",
    "    pkg_pmf, pkg_cdf = np.nan, np.nan\n",
    "    cdf = 0\n",
    "    for i in range(0, x+1) : \n",
    "        cdf += q**i * p \n",
    "\n",
    "# 기댓값과 분산 계산하기\n"
   ]
  }
 ],
 "metadata": {
  "kernelspec": {
   "display_name": "base",
   "language": "python",
   "name": "python3"
  },
  "language_info": {
   "codemirror_mode": {
    "name": "ipython",
    "version": 3
   },
   "file_extension": ".py",
   "mimetype": "text/x-python",
   "name": "python",
   "nbconvert_exporter": "python",
   "pygments_lexer": "ipython3",
   "version": "3.9.13"
  },
  "orig_nbformat": 4
 },
 "nbformat": 4,
 "nbformat_minor": 2
}
