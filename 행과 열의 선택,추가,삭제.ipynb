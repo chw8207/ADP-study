{
 "cells": [
  {
   "cell_type": "markdown",
   "id": "520f912b",
   "metadata": {},
   "source": [
    "## 1.2 row/column 선택, 추가, 삭제\n",
    "### 1.2.1  row/column 선택\n",
    "    df['컬럼명']"
   ]
  },
  {
   "cell_type": "code",
   "execution_count": null,
   "id": "6e2c944b",
   "metadata": {},
   "outputs": [],
   "source": []
  }
 ],
 "metadata": {
  "kernelspec": {
   "display_name": "Python 3 (ipykernel)",
   "language": "python",
   "name": "python3"
  },
  "language_info": {
   "codemirror_mode": {
    "name": "ipython",
    "version": 3
   },
   "file_extension": ".py",
   "mimetype": "text/x-python",
   "name": "python",
   "nbconvert_exporter": "python",
   "pygments_lexer": "ipython3",
   "version": "3.9.13"
  }
 },
 "nbformat": 4,
 "nbformat_minor": 5
}
