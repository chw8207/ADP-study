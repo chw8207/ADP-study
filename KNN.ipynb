{
  "nbformat": 4,
  "nbformat_minor": 0,
  "metadata": {
    "colab": {
      "provenance": [],
      "mount_file_id": "1gtR36OaUbniqYgapUsXYAE3m_fdc0Uja",
      "authorship_tag": "ABX9TyOxzgIZbDoaajtw+gHMg//N",
      "include_colab_link": true
    },
    "kernelspec": {
      "name": "python3",
      "display_name": "Python 3"
    },
    "language_info": {
      "name": "python"
    }
  },
  "cells": [
    {
      "cell_type": "markdown",
      "metadata": {
        "id": "view-in-github",
        "colab_type": "text"
      },
      "source": [
        "<a href=\"https://colab.research.google.com/github/chw8207/ADP-study/blob/master/KNN.ipynb\" target=\"_parent\"><img src=\"https://colab.research.google.com/assets/colab-badge.svg\" alt=\"Open In Colab\"/></a>"
      ]
    },
    {
      "cell_type": "markdown",
      "source": [
        "### KNeighborsClassifer"
      ],
      "metadata": {
        "id": "NrTjomUQEOuU"
      }
    },
    {
      "cell_type": "code",
      "execution_count": null,
      "metadata": {
        "colab": {
          "base_uri": "https://localhost:8080/"
        },
        "id": "yNG5_Zeq4xhu",
        "outputId": "32b7393e-2abe-4a4f-b108-265d1c00f7b3"
      },
      "outputs": [
        {
          "output_type": "stream",
          "name": "stdout",
          "text": [
            "[1 2]\n",
            "   Age  Gender  Total_Bilirubin  Direct_Bilirubin  Alkaline_Phosphotase  \\\n",
            "0   65  Female              0.7               0.1                   187   \n",
            "1   62    Male             10.9               5.5                   699   \n",
            "2   62    Male              7.3               4.1                   490   \n",
            "3   58    Male              1.0               0.4                   182   \n",
            "4   72    Male              3.9               2.0                   195   \n",
            "\n",
            "   Alamine_Aminotransferase  Aspartate_Aminotransferase  Total_Protiens  \\\n",
            "0                        16                          18             6.8   \n",
            "1                        64                         100             7.5   \n",
            "2                        60                          68             7.0   \n",
            "3                        14                          20             6.8   \n",
            "4                        27                          59             7.3   \n",
            "\n",
            "   Albumin  Albumin_and_Globulin_Ratio  Dataset  \n",
            "0      3.3                        0.90        1  \n",
            "1      3.2                        0.74        1  \n",
            "2      3.3                        0.89        1  \n",
            "3      3.4                        1.00        1  \n",
            "4      2.4                        0.40        1  \n"
          ]
        }
      ],
      "source": [
        "import pandas as pd\n",
        "\n",
        "liver = pd.read_csv('/content/drive/MyDrive/Colab Notebooks/adp실기/ADP-study/data/indian_liver_patient.csv')\n",
        "print(liver.Dataset.unique())\n",
        "print(liver.head())"
      ]
    },
    {
      "cell_type": "code",
      "source": [
        "# 성별 변수를 원핫인코딩하기\n",
        "import numpy as np\n",
        "\n",
        "liver.Gender = np.where(liver.Gender=='Female',0,1)\n",
        "print(liver.head())"
      ],
      "metadata": {
        "colab": {
          "base_uri": "https://localhost:8080/"
        },
        "id": "bVtnSzSUAPD_",
        "outputId": "54c27565-dcfe-4353-8d1b-567af106418c"
      },
      "execution_count": null,
      "outputs": [
        {
          "output_type": "stream",
          "name": "stdout",
          "text": [
            "   Age  Gender  Total_Bilirubin  Direct_Bilirubin  Alkaline_Phosphotase  \\\n",
            "0   65       0              0.7               0.1                   187   \n",
            "1   62       1             10.9               5.5                   699   \n",
            "2   62       1              7.3               4.1                   490   \n",
            "3   58       1              1.0               0.4                   182   \n",
            "4   72       1              3.9               2.0                   195   \n",
            "\n",
            "   Alamine_Aminotransferase  Aspartate_Aminotransferase  Total_Protiens  \\\n",
            "0                        16                          18             6.8   \n",
            "1                        64                         100             7.5   \n",
            "2                        60                          68             7.0   \n",
            "3                        14                          20             6.8   \n",
            "4                        27                          59             7.3   \n",
            "\n",
            "   Albumin  Albumin_and_Globulin_Ratio  Dataset  \n",
            "0      3.3                        0.90        1  \n",
            "1      3.2                        0.74        1  \n",
            "2      3.3                        0.89        1  \n",
            "3      3.4                        1.00        1  \n",
            "4      2.4                        0.40        1  \n"
          ]
        }
      ]
    },
    {
      "cell_type": "code",
      "source": [
        "# 데이터 결측치존재여부 확인\n",
        "print(liver.isna().sum())"
      ],
      "metadata": {
        "colab": {
          "base_uri": "https://localhost:8080/"
        },
        "id": "tA3Dk14PAidw",
        "outputId": "49929a5e-adf3-4d59-f418-61b343ac35b8"
      },
      "execution_count": null,
      "outputs": [
        {
          "output_type": "stream",
          "name": "stdout",
          "text": [
            "Age                           0\n",
            "Gender                        0\n",
            "Total_Bilirubin               0\n",
            "Direct_Bilirubin              0\n",
            "Alkaline_Phosphotase          0\n",
            "Alamine_Aminotransferase      0\n",
            "Aspartate_Aminotransferase    0\n",
            "Total_Protiens                0\n",
            "Albumin                       0\n",
            "Albumin_and_Globulin_Ratio    4\n",
            "Dataset                       0\n",
            "dtype: int64\n"
          ]
        }
      ]
    },
    {
      "cell_type": "code",
      "source": [
        "# 결측치가 4개로 충분히 작으므로 제거하기\n",
        "liver.dropna(axis=0, inplace=True)\n",
        "print(liver.isna().sum())"
      ],
      "metadata": {
        "colab": {
          "base_uri": "https://localhost:8080/"
        },
        "id": "fl_9zERNA6o5",
        "outputId": "c4b6df93-e63c-4df2-864f-220c289c020f"
      },
      "execution_count": null,
      "outputs": [
        {
          "output_type": "stream",
          "name": "stdout",
          "text": [
            "Age                           0\n",
            "Gender                        0\n",
            "Total_Bilirubin               0\n",
            "Direct_Bilirubin              0\n",
            "Alkaline_Phosphotase          0\n",
            "Alamine_Aminotransferase      0\n",
            "Aspartate_Aminotransferase    0\n",
            "Total_Protiens                0\n",
            "Albumin                       0\n",
            "Albumin_and_Globulin_Ratio    0\n",
            "Dataset                       0\n",
            "dtype: int64\n"
          ]
        }
      ]
    },
    {
      "cell_type": "code",
      "source": [
        "# 설명변수 타겟변수 설정\n",
        "# 7:3비율로 데이터 분할\n",
        "from sklearn.model_selection import train_test_split\n",
        "\n",
        "X = liver[liver.columns.difference(['Dataset'])]\n",
        "y = liver['Dataset']\n",
        "\n",
        "train_X, test_X, train_y, test_y = train_test_split(X,y, stratify=y,\n",
        "                                                    test_size=0.3, random_state=1)\n",
        "\n",
        "print(train_X.shape, test_X.shape, train_y.shape, test_y.shape)"
      ],
      "metadata": {
        "colab": {
          "base_uri": "https://localhost:8080/"
        },
        "id": "mXI7znSSBTcB",
        "outputId": "01f87848-2a7c-4071-eac7-b39ed33ddfcc"
      },
      "execution_count": null,
      "outputs": [
        {
          "output_type": "stream",
          "name": "stdout",
          "text": [
            "(405, 10) (174, 10) (405,) (174,)\n"
          ]
        }
      ]
    },
    {
      "cell_type": "code",
      "source": [
        "# KNN분류기 생성\n",
        "from sklearn.neighbors import KNeighborsClassifier\n",
        "\n",
        "clf = KNeighborsClassifier(n_neighbors=5, weights='uniform')\n",
        "clf.fit(train_X, train_y)"
      ],
      "metadata": {
        "colab": {
          "base_uri": "https://localhost:8080/"
        },
        "id": "QusWDfB6CQB4",
        "outputId": "26dfc7fc-568b-446d-ce88-fd2e5c5b676d"
      },
      "execution_count": null,
      "outputs": [
        {
          "output_type": "execute_result",
          "data": {
            "text/plain": [
              "KNeighborsClassifier()"
            ]
          },
          "metadata": {},
          "execution_count": 12
        }
      ]
    },
    {
      "cell_type": "code",
      "source": [
        "from sklearn.metrics import confusion_matrix, accuracy_score,\\\n",
        "precision_score, recall_score, f1_score\n",
        "\n",
        "# 예측값 생성\n",
        "pred = clf.predict(test_X)\n",
        "\n",
        "# 평가하기\n",
        "test_cm = confusion_matrix(test_y, pred)\n",
        "test_acc = accuracy_score(test_y, pred)\n",
        "test_prc = precision_score(test_y, pred)\n",
        "test_rcll = recall_score(test_y, pred)\n",
        "test_f1 = f1_score(test_y, pred)\n",
        "\n",
        "print(test_cm)\n",
        "print('\\n')\n",
        "print(f'정확도\\t{round(test_acc*100,2)}')\n",
        "print(f'정밀도\\t{round(test_prc*100,2)}')\n",
        "print(f'재현율\\t{round(test_rcll*100,2)}')"
      ],
      "metadata": {
        "colab": {
          "base_uri": "https://localhost:8080/"
        },
        "id": "7ZmI1HcdC2pv",
        "outputId": "a50d3eed-d1d3-46dd-a913-2758a91db3fb"
      },
      "execution_count": null,
      "outputs": [
        {
          "output_type": "stream",
          "name": "stdout",
          "text": [
            "[[98 26]\n",
            " [30 20]]\n",
            "\n",
            "\n",
            "정확도\t67.82\n",
            "정밀도\t76.56\n",
            "재현율\t79.03\n"
          ]
        }
      ]
    },
    {
      "cell_type": "markdown",
      "source": [
        "### KNeighborsRegressor"
      ],
      "metadata": {
        "id": "q9qNlOcS-cOV"
      }
    },
    {
      "cell_type": "code",
      "source": [
        "import numpy as np\n",
        "\n",
        "# 임의의 샘플데이터 생성하기\n",
        "np.random.seed(0)\n",
        "X = np.sort(5*np.random.rand(400,1), axis=0)\n",
        "T = np.linspace(0,5,500)[:,np.newaxis]\n",
        "y = np.sin(X).ravel()\n",
        "\n",
        "print(X[:10])\n",
        "print(T[:10])\n",
        "print(y[:10])"
      ],
      "metadata": {
        "colab": {
          "base_uri": "https://localhost:8080/"
        },
        "id": "wFlri9cq-hOk",
        "outputId": "be32be8b-aeea-4361-9027-881969783af8"
      },
      "execution_count": 2,
      "outputs": [
        {
          "output_type": "stream",
          "name": "stdout",
          "text": [
            "[[0.02347738]\n",
            " [0.05713729]\n",
            " [0.05857042]\n",
            " [0.06618429]\n",
            " [0.08164251]\n",
            " [0.08214815]\n",
            " [0.09260897]\n",
            " [0.093949  ]\n",
            " [0.09596599]\n",
            " [0.10053773]]\n",
            "[[0.        ]\n",
            " [0.01002004]\n",
            " [0.02004008]\n",
            " [0.03006012]\n",
            " [0.04008016]\n",
            " [0.0501002 ]\n",
            " [0.06012024]\n",
            " [0.07014028]\n",
            " [0.08016032]\n",
            " [0.09018036]]\n",
            "[0.02347522 0.05710621 0.05853694 0.06613598 0.08155185 0.08205579\n",
            " 0.09247665 0.09381086 0.09581876 0.10036845]\n"
          ]
        }
      ]
    }
  ]
}