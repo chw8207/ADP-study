{
  "cells": [
    {
      "cell_type": "markdown",
      "metadata": {
        "id": "view-in-github",
        "colab_type": "text"
      },
      "source": [
        "<a href=\"https://colab.research.google.com/github/chw8207/ADP-study/blob/master/%EB%8D%B0%EC%9D%B4%ED%84%B0%ED%94%84%EB%A0%88%EC%9E%84_%EA%B8%B0.ipynb\" target=\"_parent\"><img src=\"https://colab.research.google.com/assets/colab-badge.svg\" alt=\"Open In Colab\"/></a>"
      ]
    },
    {
      "cell_type": "code",
      "source": [
        "from google.colab import drive\n",
        "drive.mount('/content/drive')"
      ],
      "metadata": {
        "colab": {
          "base_uri": "https://localhost:8080/"
        },
        "id": "guyC1nlVMW17",
        "outputId": "9f50751d-f512-4c56-a855-68fb1dcb4f98"
      },
      "id": "guyC1nlVMW17",
      "execution_count": null,
      "outputs": [
        {
          "output_type": "stream",
          "name": "stdout",
          "text": [
            "Mounted at /content/drive\n"
          ]
        }
      ]
    },
    {
      "cell_type": "code",
      "source": [
        "# !pip install -r python_package_list.txt"
      ],
      "metadata": {
        "colab": {
          "base_uri": "https://localhost:8080/"
        },
        "id": "HqvvQRGI_VNo",
        "outputId": "2041993d-49e9-43c9-ceea-fcac48d85ec5"
      },
      "id": "HqvvQRGI_VNo",
      "execution_count": 20,
      "outputs": [
        {
          "output_type": "stream",
          "name": "stdout",
          "text": [
            "\u001b[31mERROR: Could not open requirements file: [Errno 2] No such file or directory: 'python_package_list.txt'\u001b[0m\u001b[31m\n",
            "\u001b[0m"
          ]
        }
      ]
    },
    {
      "cell_type": "markdown",
      "source": [
        "# 1. DataFrame 기본"
      ],
      "metadata": {
        "id": "BP7UVaJ4D6l3"
      },
      "id": "BP7UVaJ4D6l3"
    },
    {
      "cell_type": "markdown",
      "source": [
        "## 1.1 Pandas DataFrame 사용 준비"
      ],
      "metadata": {
        "id": "8qjQVXQMEB5S"
      },
      "id": "8qjQVXQMEB5S"
    },
    {
      "cell_type": "code",
      "execution_count": 21,
      "id": "872a56c1",
      "metadata": {
        "id": "872a56c1"
      },
      "outputs": [],
      "source": [
        "import pandas as pd"
      ]
    },
    {
      "cell_type": "markdown",
      "source": [
        "## 1.2 DataFrame 읽기\n",
        "- df = pd.read_csv(filepath)\n",
        "- filepath : 파일경로('p1/p2/file.csv' 형태)\n",
        "- %pwd : 경로 확인"
      ],
      "metadata": {
        "id": "wbuZQhFuEcc-"
      },
      "id": "wbuZQhFuEcc-"
    },
    {
      "cell_type": "code",
      "source": [
        "%pwd"
      ],
      "metadata": {
        "colab": {
          "base_uri": "https://localhost:8080/",
          "height": 35
        },
        "id": "37ueG7nMEtO0",
        "outputId": "f411331d-b405-4af6-a960-14e2e008c117"
      },
      "id": "37ueG7nMEtO0",
      "execution_count": 22,
      "outputs": [
        {
          "output_type": "execute_result",
          "data": {
            "text/plain": [
              "'/content'"
            ],
            "application/vnd.google.colaboratory.intrinsic+json": {
              "type": "string"
            }
          },
          "metadata": {},
          "execution_count": 22
        }
      ]
    }
  ],
  "metadata": {
    "kernelspec": {
      "display_name": "Python 3 (ipykernel)",
      "language": "python",
      "name": "python3"
    },
    "language_info": {
      "codemirror_mode": {
        "name": "ipython",
        "version": 3
      },
      "file_extension": ".py",
      "mimetype": "text/x-python",
      "name": "python",
      "nbconvert_exporter": "python",
      "pygments_lexer": "ipython3",
      "version": "3.9.12"
    },
    "colab": {
      "provenance": [],
      "include_colab_link": true
    },
    "accelerator": "GPU",
    "gpuClass": "standard"
  },
  "nbformat": 4,
  "nbformat_minor": 5
}