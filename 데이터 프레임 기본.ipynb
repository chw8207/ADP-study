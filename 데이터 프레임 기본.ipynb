{
 "cells": [
  {
   "cell_type": "code",
   "execution_count": 4,
   "id": "180ded7b",
   "metadata": {},
   "outputs": [
    {
     "name": "stderr",
     "output_type": "stream",
     "text": [
      "ERROR: Invalid requirement: 'Package\\tVersion' (from line 1 of python_package_list.txt)\n"
     ]
    }
   ],
   "source": [
    "# !pip install -r python_package_list.txt"
   ]
  },
  {
   "cell_type": "markdown",
   "id": "930c292f",
   "metadata": {},
   "source": [
    "# 1. 데이터프레임 기본"
   ]
  },
  {
   "cell_type": "markdown",
   "id": "e61e97b3",
   "metadata": {},
   "source": [
    "## 1.1 Pandas DataFrame 사용 준비"
   ]
  },
  {
   "cell_type": "code",
   "execution_count": 5,
   "id": "872a56c1",
   "metadata": {},
   "outputs": [],
   "source": [
    "import pandas as pd"
   ]
  },
  {
   "cell_type": "markdown",
   "id": "08bdadc6",
   "metadata": {},
   "source": [
    "## 1.2 DataFrame 읽기\n",
    "- df = pd.read_csv(filepath)\n",
    "- filepath : 파일경로('p1/p2/file.csv'형태)\n",
    "- %pwd : 경로 확인"
   ]
  },
  {
   "cell_type": "code",
   "execution_count": null,
   "id": "a6ce3489",
   "metadata": {},
   "outputs": [],
   "source": [
    "%pwd"
   ]
  },
  {
   "cell_type": "code",
   "execution_count": null,
   "id": "e43c36f3",
   "metadata": {},
   "outputs": [],
   "source": []
  },
  {
   "cell_type": "code",
   "execution_count": null,
   "id": "9c3688b1",
   "metadata": {},
   "outputs": [],
   "source": []
  },
  {
   "cell_type": "code",
   "execution_count": null,
   "id": "908744e2",
   "metadata": {},
   "outputs": [],
   "source": []
  },
  {
   "cell_type": "code",
   "execution_count": null,
   "id": "08ae6e3d",
   "metadata": {},
   "outputs": [],
   "source": []
  },
  {
   "cell_type": "code",
   "execution_count": null,
   "id": "33408f00",
   "metadata": {},
   "outputs": [],
   "source": []
  }
 ],
 "metadata": {
  "kernelspec": {
   "display_name": "Python 3 (ipykernel)",
   "language": "python",
   "name": "python3"
  },
  "language_info": {
   "codemirror_mode": {
    "name": "ipython",
    "version": 3
   },
   "file_extension": ".py",
   "mimetype": "text/x-python",
   "name": "python",
   "nbconvert_exporter": "python",
   "pygments_lexer": "ipython3",
   "version": "3.9.13"
  }
 },
 "nbformat": 4,
 "nbformat_minor": 5
}
