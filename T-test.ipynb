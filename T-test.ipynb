{
 "cells": [
  {
   "cell_type": "markdown",
   "id": "ace35dcc",
   "metadata": {},
   "source": [
    "## 4.2 T-TEST\n",
    "### 4.2.1 일표본 T-검정(One Sample T-Test)\n",
    "__가.__ 일표본 T-검정 개념\n",
    "- 단일모집단에서 관심이 있는 연속형 변수의 평균값을 특정 기준값과 비교\n",
    "- 가정 : 모집단의 구성요소들이 정규분포를 이룬다는 가정\n",
    "       * 종속변수는 연속형이어야 함\n",
    "       * 검증하고자하는 기준값이 있어야 함.\n",
    "__나.__ 일표본 T-검정 단계\n",
    "\n",
    "|1단계: |가설설정|  |\n",
    "|------|---|---|\n",
    "|모수|모평균(μ)|  |\n",
    "|귀무가설(H0)|μ=μ0|  |\n",
    "|대립가설(H1)|(1) 양측검정: |μ!=μ0|\n",
    "| |(2) 우단측검정: |μ>μ0|\n",
    "| |(3) 좌단측검정: |μ<μ0|\n",
    "\n",
    "|2단계: |유의수준 설정|          |\n",
    "|------|---|---|\n",
    "      \n",
    "      \n",
    "|3단계: |검정통계량의 값 및 유의확률 계산|  |\n",
    "|------|---|---|\n",
    "      \n",
    "      \n",
    "|4단계: |귀무가설의 기각여부 판단 및 의사결정|\n",
    "|------|---|\n",
    "|p-value:|유의확률|\n",
    "|α: | 유의수준|\n",
    "|p-value < α:|귀무가설을 기각하고, 대립가설을 채택|\n",
    "|p-value > α:|귀무가설을 기각하지 않음|"
   ]
  },
  {
   "cell_type": "code",
   "execution_count": null,
   "id": "0ef20889",
   "metadata": {},
   "outputs": [],
   "source": []
  },
  {
   "cell_type": "code",
   "execution_count": null,
   "id": "5d27f1f7",
   "metadata": {},
   "outputs": [],
   "source": []
  },
  {
   "cell_type": "code",
   "execution_count": null,
   "id": "d629217c",
   "metadata": {},
   "outputs": [],
   "source": []
  }
 ],
 "metadata": {
  "kernelspec": {
   "display_name": "Python 3 (ipykernel)",
   "language": "python",
   "name": "python3"
  },
  "language_info": {
   "codemirror_mode": {
    "name": "ipython",
    "version": 3
   },
   "file_extension": ".py",
   "mimetype": "text/x-python",
   "name": "python",
   "nbconvert_exporter": "python",
   "pygments_lexer": "ipython3",
   "version": "3.9.13"
  }
 },
 "nbformat": 4,
 "nbformat_minor": 5
}
