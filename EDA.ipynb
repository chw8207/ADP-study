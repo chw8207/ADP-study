{
 "cells": [
  {
   "cell_type": "code",
   "execution_count": 12,
   "metadata": {},
   "outputs": [],
   "source": [
    "import pandas as pd\n",
    "import numpy as np\n",
    "import matplotlib.pyplot as plt\n",
    "from scipy.stats import spearmanr, kendalltau\n",
    "%matplotlib inline"
   ]
  },
  {
   "cell_type": "markdown",
   "metadata": {},
   "source": [
    "### 데이터 불러오기 및 확인\n"
   ]
  },
  {
   "cell_type": "code",
   "execution_count": 3,
   "metadata": {},
   "outputs": [
    {
     "name": "stdout",
     "output_type": "stream",
     "text": [
      "   PassengerId  Survived  Pclass  \\\n",
      "0            1         0       3   \n",
      "1            2         1       1   \n",
      "2            3         1       3   \n",
      "\n",
      "                                                Name     Sex   Age  SibSp  \\\n",
      "0                            Braund, Mr. Owen Harris    male  22.0      1   \n",
      "1  Cumings, Mrs. John Bradley (Florence Briggs Th...  female  38.0      1   \n",
      "2                             Heikkinen, Miss. Laina  female  26.0      0   \n",
      "\n",
      "   Parch            Ticket     Fare Cabin Embarked  \n",
      "0      0         A/5 21171   7.2500   NaN        S  \n",
      "1      0          PC 17599  71.2833   C85        C  \n",
      "2      0  STON/O2. 3101282   7.9250   NaN        S  \n"
     ]
    }
   ],
   "source": [
    "titanic = pd.read_csv('./data/train.csv')\n",
    "print(titanic.head(3))"
   ]
  },
  {
   "cell_type": "markdown",
   "metadata": {},
   "source": [
    "### 데이터 기본정보 확인\n"
   ]
  },
  {
   "cell_type": "code",
   "execution_count": 4,
   "metadata": {},
   "outputs": [
    {
     "name": "stdout",
     "output_type": "stream",
     "text": [
      "<class 'pandas.core.frame.DataFrame'>\n",
      "RangeIndex: 891 entries, 0 to 890\n",
      "Data columns (total 12 columns):\n",
      " #   Column       Non-Null Count  Dtype  \n",
      "---  ------       --------------  -----  \n",
      " 0   PassengerId  891 non-null    int64  \n",
      " 1   Survived     891 non-null    int64  \n",
      " 2   Pclass       891 non-null    int64  \n",
      " 3   Name         891 non-null    object \n",
      " 4   Sex          891 non-null    object \n",
      " 5   Age          714 non-null    float64\n",
      " 6   SibSp        891 non-null    int64  \n",
      " 7   Parch        891 non-null    int64  \n",
      " 8   Ticket       891 non-null    object \n",
      " 9   Fare         891 non-null    float64\n",
      " 10  Cabin        204 non-null    object \n",
      " 11  Embarked     889 non-null    object \n",
      "dtypes: float64(2), int64(5), object(5)\n",
      "memory usage: 83.7+ KB\n",
      "None\n"
     ]
    }
   ],
   "source": [
    "print(titanic.info())"
   ]
  },
  {
   "cell_type": "markdown",
   "metadata": {},
   "source": [
    "- PassengerID는 정보가 의미 없음\n",
    "- Cabin은 결측치가 과반 이상(8개 중 6개 꼴)\n",
    "- 질적 변수의 타입 카테고리형으로 변환"
   ]
  },
  {
   "cell_type": "code",
   "execution_count": 5,
   "metadata": {},
   "outputs": [],
   "source": [
    "# feature 삭제\n",
    "del_feat = ['PassengerId', 'Cabin']\n",
    "titanic = titanic.drop(del_feat, axis=1)"
   ]
  },
  {
   "cell_type": "code",
   "execution_count": 7,
   "metadata": {},
   "outputs": [
    {
     "name": "stdout",
     "output_type": "stream",
     "text": [
      "<class 'pandas.core.frame.DataFrame'>\n",
      "RangeIndex: 891 entries, 0 to 890\n",
      "Data columns (total 10 columns):\n",
      " #   Column    Non-Null Count  Dtype   \n",
      "---  ------    --------------  -----   \n",
      " 0   Survived  891 non-null    category\n",
      " 1   Pclass    891 non-null    category\n",
      " 2   Name      891 non-null    category\n",
      " 3   Sex       891 non-null    category\n",
      " 4   Age       714 non-null    float64 \n",
      " 5   SibSp     891 non-null    int64   \n",
      " 6   Parch     891 non-null    int64   \n",
      " 7   Ticket    891 non-null    category\n",
      " 8   Fare      891 non-null    float64 \n",
      " 9   Embarked  889 non-null    category\n",
      "dtypes: category(6), float64(2), int64(2)\n",
      "memory usage: 96.2 KB\n",
      "None\n"
     ]
    }
   ],
   "source": [
    "# 질적 변수의 데이터 타입을 category로 변경하기\n",
    "qual = ['Survived', 'Pclass', 'Name', 'Sex', 'Ticket', 'Embarked']\n",
    "quan = ['Age', 'SibSp', 'Parch', 'Fare']\n",
    "for col in qual : \n",
    "    titanic[col] = titanic[col].astype('category')\n",
    "print(titanic.info())"
   ]
  },
  {
   "cell_type": "markdown",
   "metadata": {},
   "source": [
    "### 기술통계"
   ]
  },
  {
   "cell_type": "code",
   "execution_count": 9,
   "metadata": {},
   "outputs": [
    {
     "name": "stdout",
     "output_type": "stream",
     "text": [
      "        Survived  Pclass                 Name   Sex         Age       SibSp  \\\n",
      "count      891.0   891.0                  891   891  714.000000  891.000000   \n",
      "unique       2.0     3.0                  891     2         NaN         NaN   \n",
      "top          0.0     3.0  Abbing, Mr. Anthony  male         NaN         NaN   \n",
      "freq       549.0   491.0                    1   577         NaN         NaN   \n",
      "mean         NaN     NaN                  NaN   NaN   29.699118    0.523008   \n",
      "std          NaN     NaN                  NaN   NaN   14.526497    1.102743   \n",
      "min          NaN     NaN                  NaN   NaN    0.420000    0.000000   \n",
      "25%          NaN     NaN                  NaN   NaN   20.125000    0.000000   \n",
      "50%          NaN     NaN                  NaN   NaN   28.000000    0.000000   \n",
      "75%          NaN     NaN                  NaN   NaN   38.000000    1.000000   \n",
      "max          NaN     NaN                  NaN   NaN   80.000000    8.000000   \n",
      "\n",
      "             Parch Ticket        Fare Embarked  \n",
      "count   891.000000    891  891.000000      889  \n",
      "unique         NaN    681         NaN        3  \n",
      "top            NaN   1601         NaN        S  \n",
      "freq           NaN      7         NaN      644  \n",
      "mean      0.381594    NaN   32.204208      NaN  \n",
      "std       0.806057    NaN   49.693429      NaN  \n",
      "min       0.000000    NaN    0.000000      NaN  \n",
      "25%       0.000000    NaN    7.910400      NaN  \n",
      "50%       0.000000    NaN   14.454200      NaN  \n",
      "75%       0.000000    NaN   31.000000      NaN  \n",
      "max       6.000000    NaN  512.329200      NaN  \n"
     ]
    }
   ],
   "source": [
    "print(titanic.describe(include='all'))"
   ]
  },
  {
   "cell_type": "markdown",
   "metadata": {},
   "source": [
    "### 질적변수\n",
    "- 도수분포표, 상대도수분포표"
   ]
  },
  {
   "cell_type": "code",
   "execution_count": 10,
   "metadata": {},
   "outputs": [
    {
     "name": "stdout",
     "output_type": "stream",
     "text": [
      "   Survived\n",
      "0       549\n",
      "1       342\n"
     ]
    }
   ],
   "source": [
    "# 도수분포표\n",
    "freq = pd.DataFrame(titanic['Survived'].value_counts())\n",
    "print(freq)"
   ]
  },
  {
   "cell_type": "code",
   "execution_count": 11,
   "metadata": {},
   "outputs": [
    {
     "name": "stdout",
     "output_type": "stream",
     "text": [
      "    도수      상대도수\n",
      "0  549  0.616162\n",
      "1  342  0.383838\n"
     ]
    }
   ],
   "source": [
    "# 상대도수분포표 추가\n",
    "freq['상대도수'] = freq['Survived'].apply(lambda x: x/freq['Survived'].sum())\n",
    "freq = freq.rename(columns={'Survived':'도수'})\n",
    "print(freq)"
   ]
  },
  {
   "cell_type": "markdown",
   "metadata": {},
   "source": [
    "- 상관계수 : 스피어만과 켄달의 타우"
   ]
  },
  {
   "cell_type": "code",
   "execution_count": 15,
   "metadata": {},
   "outputs": [
    {
     "name": "stdout",
     "output_type": "stream",
     "text": [
      "스피어만 상관계수는 -0.340, p-value는 0.000\n",
      "켄달타우 상관계수는 -0.324, p-value는 0.000\n"
     ]
    }
   ],
   "source": [
    "# 유의수준 : 0.05\n",
    "corr, p = spearmanr(titanic['Survived'], titanic['Pclass'])\n",
    "print(f'스피어만 상관계수는 {corr:.3f}, p-value는 {p:.3f}')\n",
    "\n",
    "corr, p = kendalltau(titanic['Survived'], titanic['Pclass'])\n",
    "print(f'켄달타우 상관계수는 {corr:.3f}, p-value는 {p:.3f}')"
   ]
  },
  {
   "cell_type": "markdown",
   "metadata": {},
   "source": [
    "- 질적변수 탐색 시각화"
   ]
  },
  {
   "cell_type": "code",
   "execution_count": 30,
   "metadata": {},
   "outputs": [
    {
     "data": {
      "image/png": "[encoded data removed]",
      "text/plain": [
       "<Figure size 1000x500 with 2 Axes>"
      ]
     },
     "metadata": {},
     "output_type": "display_data"
    }
   ],
   "source": [
    "# 환경설정\n",
    "plt.rcParams['figure.figsize'] = (5,5)\n",
    "plt.rcParams['font.family'] = 'D2Coding'\n",
    "plt.rcParams['font.size'] = 12\n",
    "plt.rcParams['axes.unicode_minus'] = False\n",
    "fig, ax = plt.subplots(1,2, figsize=(10,5))\n",
    "\n",
    "# 막대 그래프\n",
    "ax[0].set_title('Survived 막대 그래프')\n",
    "freq['도수'].plot.bar(ax=ax[0], hatch=['.','/'])\n",
    "\n",
    "# 원 그래프\n",
    "ax[1].set_title('Survived 파이 그래프')\n",
    "ax[1].pie(freq['도수'].values, labels=freq['도수'].index,\n",
    "          autopct='%.2f%%')\n",
    "\n",
    "plt.show()"
   ]
  },
  {
   "cell_type": "markdown",
   "metadata": {},
   "source": [
    "### 양적변수\n",
    "- 도수분포표, 상대도수분포표"
   ]
  },
  {
   "cell_type": "code",
   "execution_count": 32,
   "metadata": {},
   "outputs": [
    {
     "name": "stdout",
     "output_type": "stream",
     "text": [
      "                 계급   도수\n",
      "2    (0.34, 16.336]  100\n",
      "0  (16.336, 32.252]  346\n",
      "1  (32.252, 48.168]  188\n",
      "3  (48.168, 64.084]   69\n",
      "4    (64.084, 80.0]   11\n"
     ]
    }
   ],
   "source": [
    "# 계급의 개수를 지정하여 도수분포표 생성\n",
    "result1 = pd.cut(titanic['Age'], bins=5)\n",
    "freq1 = pd.DataFrame(result1.value_counts()).reset_index()\n",
    "freq1 = freq1.rename(columns={'index':'계급', 'Age':'도수'}).sort_values(by='계급')\n",
    "print(freq1)"
   ]
  },
  {
   "cell_type": "code",
   "execution_count": 33,
   "metadata": {},
   "outputs": [
    {
     "name": "stdout",
     "output_type": "stream",
     "text": [
      "             계급   도수\n",
      "1   (0.0, 19.0]  164\n",
      "0  (19.0, 39.0]  387\n",
      "2  (39.0, 59.0]  137\n",
      "3   (59.0, inf]   26\n"
     ]
    }
   ],
   "source": [
    "# 계급의 범위를 지정하여 도수분포표 생성\n",
    "result2 = pd.cut(titanic['Age'], bins=[0, 19, 39, 59, float('inf')])\n",
    "freq2 = pd.DataFrame(result2.value_counts()).reset_index()\n",
    "freq2 = freq2.rename(columns={'index':'계급', 'Age':'도수'}).sort_values(by='계급')\n",
    "print(freq2)"
   ]
  }
 ],
 "metadata": {
  "kernelspec": {
   "display_name": "base",
   "language": "python",
   "name": "python3"
  },
  "language_info": {
   "codemirror_mode": {
    "name": "ipython",
    "version": 3
   },
   "file_extension": ".py",
   "mimetype": "text/x-python",
   "name": "python",
   "nbconvert_exporter": "python",
   "pygments_lexer": "ipython3",
   "version": "3.9.13"
  },
  "orig_nbformat": 4
 },
 "nbformat": 4,
 "nbformat_minor": 2
}
